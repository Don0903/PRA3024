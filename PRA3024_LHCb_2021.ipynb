{
  "nbformat": 4,
  "nbformat_minor": 0,
  "metadata": {
    "colab": {
      "name": "PRA3024 LHCb_2021.ipynb",
      "provenance": [],
      "collapsed_sections": [],
      "toc_visible": true,
      "include_colab_link": true
    },
    "kernelspec": {
      "name": "python2",
      "display_name": "Python 2"
    },
    "accelerator": "GPU"
  },
  "cells": [
    {
      "cell_type": "markdown",
      "metadata": {
        "id": "view-in-github",
        "colab_type": "text"
      },
      "source": [
        "<a href=\"https://colab.research.google.com/github/Don0903/PRA3024/blob/main/PRA3024_LHCb_2021.ipynb\" target=\"_parent\"><img src=\"https://colab.research.google.com/assets/colab-badge.svg\" alt=\"Open In Colab\"/></a>"
      ]
    },
    {
      "cell_type": "markdown",
      "metadata": {
        "id": "1JafiSIrvEKW"
      },
      "source": [
        "Welcome to Week 4!\n",
        "\n",
        "We will be focussing in Particle Physics Analysis and detecting matter/antimatter assymetries in the production of certain types of particles. ![LHCb detector](https://www1b.physik.rwth-aachen.de/~schael/LHCb_files/LHCB%20PREVIEW-white-bg.jpg)\n",
        "\n",
        "The data we are using comes from LHCb - one of the experiments at LHC. It is a highly specialised detector aimed at detecting decays involving the B-quark. Unlike the other major experiments, LHCb detects particles very close to the source and looks almost exclusively in the forward direction - this gives the detector many advantages compared to other experiments at LHC.\n",
        "\n",
        "In order to get started, we need to access the [ROOT framework](https://root.cern.ch/) and download some datafiles into this machine.\n",
        "\n",
        "If you are using Google Colab then you need to ensure that you are using Python 2:\n",
        "\n",
        "Before we start - we have to use Python2 (not Python 3), so we should choose this as an option in \"Runtime\" -> \"Change Runtime Type\" at the top or create a new notebook in Python2 by appending \"&runtime=python2\" to the URL."
      ]
    },
    {
      "cell_type": "code",
      "metadata": {
        "id": "vFclIR72w0mU",
        "colab": {
          "base_uri": "https://localhost:8080/"
        },
        "outputId": "6d1f552c-4cb0-4459-8446-b16e08f7d19c"
      },
      "source": [
        "#Colab only\n",
        "#we are going to make a directory called APPS\n",
        "!mkdir -p APPS\n",
        "#Now we move to our directory called APPS and we download ROOT from the CERN server, this version is chosen because it runs on this machine - if you want to run this locally check the versions!\n",
        "!cd APPS && wget https://root.cern.ch/download/root_v6.13.08.Linux-ubuntu18-x86_64-gcc7.3.tar.gz \n",
        "#Now we extract our downloaded file:\n",
        "!cd APPS && tar -xf root_v6.13.08.Linux-ubuntu18-x86_64-gcc7.3.tar.gz\n"
      ],
      "execution_count": 1,
      "outputs": [
        {
          "output_type": "stream",
          "text": [
            "--2021-03-01 17:24:52--  https://root.cern.ch/download/root_v6.13.08.Linux-ubuntu18-x86_64-gcc7.3.tar.gz\n",
            "Resolving root.cern.ch (root.cern.ch)... 137.138.18.236, 2001:1458:201:ee::100:6\n",
            "Connecting to root.cern.ch (root.cern.ch)|137.138.18.236|:443... connected.\n",
            "HTTP request sent, awaiting response... 200 OK\n",
            "Length: 137415272 (131M) [application/x-gzip]\n",
            "Saving to: ‘root_v6.13.08.Linux-ubuntu18-x86_64-gcc7.3.tar.gz’\n",
            "\n",
            "root_v6.13.08.Linux 100%[===================>] 131.05M  28.9MB/s    in 5.3s    \n",
            "\n",
            "2021-03-01 17:24:58 (24.8 MB/s) - ‘root_v6.13.08.Linux-ubuntu18-x86_64-gcc7.3.tar.gz’ saved [137415272/137415272]\n",
            "\n"
          ],
          "name": "stdout"
        }
      ]
    },
    {
      "cell_type": "code",
      "metadata": {
        "colab": {
          "base_uri": "https://localhost:8080/"
        },
        "id": "YmpKOaW9HsQp",
        "outputId": "33f5ba32-1449-475a-ec50-5b5902d023c7"
      },
      "source": [
        "from google.colab import drive\n",
        "drive.mount('/content/drive')"
      ],
      "execution_count": 2,
      "outputs": [
        {
          "output_type": "stream",
          "text": [
            "Mounted at /content/drive\n"
          ],
          "name": "stdout"
        }
      ]
    },
    {
      "cell_type": "code",
      "metadata": {
        "id": "COPyXIvbxqht",
        "colab": {
          "base_uri": "https://localhost:8080/"
        },
        "outputId": "03dc27aa-67b3-4a02-8d45-4797f67a3e94"
      },
      "source": [
        "#Colab only:\n",
        "#now we can extract some files from ROOT and ensure that we can access the libraries. We use some python key words to get access to the right files:\n",
        "\n",
        "import sys\n",
        "\n",
        "sys.path.append(\"/content/APPS/root/lib\")\n",
        "\n",
        "import ctypes\n",
        "\n",
        "\n",
        "ctypes.cdll.LoadLibrary('/content/APPS/root/lib/libCore.so')\n",
        "\n",
        "ctypes.cdll.LoadLibrary('/content/APPS/root/lib/libThread.so')\n",
        "\n",
        "ctypes.cdll.LoadLibrary('/content/APPS/root/lib/libImt.so')\n",
        "\n",
        "ctypes.cdll.LoadLibrary('/content/APPS/root/lib/libRIO.so')\n",
        "\n",
        "ctypes.cdll.LoadLibrary('/content/APPS/root/lib/libNet.so')\n",
        "\n",
        "ctypes.cdll.LoadLibrary('/content/APPS/root/lib/libTree.so')\n",
        "\n",
        "ctypes.cdll.LoadLibrary('/content/APPS/root/lib/libMathCore.so')\n",
        "\n",
        "ctypes.cdll.LoadLibrary('/content/APPS/root/lib/libMathMore.so')\n",
        "\n",
        "ctypes.cdll.LoadLibrary('/content/APPS/root/lib/libMatrix.so')\n",
        "\n",
        "ctypes.cdll.LoadLibrary('/content/APPS/root/lib/libHist.so')\n",
        "\n",
        "ctypes.cdll.LoadLibrary('/content/APPS/root/lib/libGraf.so')\n",
        "\n",
        "ctypes.cdll.LoadLibrary('/content/APPS/root/lib/libPyROOT.so')\n",
        "\n",
        "ctypes.cdll.LoadLibrary('/content/APPS/root/lib/libGpad.so')\n",
        "\n",
        "ctypes.cdll.LoadLibrary('/content/APPS/root/lib/libGraf3d.so')\n",
        "\n",
        "ctypes.cdll.LoadLibrary('/content/APPS/root/lib/libMultiProc.so')\n",
        "\n",
        "ctypes.cdll.LoadLibrary('/content/APPS/root/lib/libMinuit.so')\n",
        "\n",
        "ctypes.cdll.LoadLibrary('/content/APPS/root/lib/libFoam.so')"
      ],
      "execution_count": 3,
      "outputs": [
        {
          "output_type": "execute_result",
          "data": {
            "text/plain": [
              "<CDLL '/content/APPS/root/lib/libFoam.so', handle 55f8ca886800 at 7fd500f5e550>"
            ]
          },
          "metadata": {
            "tags": []
          },
          "execution_count": 3
        }
      ]
    },
    {
      "cell_type": "code",
      "metadata": {
        "id": "QTVz7NQMyDCb",
        "colab": {
          "base_uri": "https://localhost:8080/",
          "height": 606
        },
        "outputId": "ae01e59e-d8db-4ddb-8dff-08c36e20051a"
      },
      "source": [
        "#Now we can check if we have everything working as we expect: \n",
        "#Import brings the ROOT framework into our python environment.\n",
        "import ROOT\n",
        "#We define a 1 dimensional histogram, with 100 bins which ranges from -4 to +4\n",
        "h = ROOT.TH1F(\"gauss\",\"Example histogram\",100,-4,4)\n",
        "#Fill the histogram with gaussian (random) distribution\n",
        "h.FillRandom(\"gaus\")\n",
        "#make a Canvas (i.e. a drawing)\n",
        "c = ROOT.TCanvas(\"myCanvasName\",\"The Canvas Title\",800,600)\n",
        "#Draw my histogram\n",
        "h.Draw()\n",
        "#Show me the canvas\n",
        "c.Draw()"
      ],
      "execution_count": 4,
      "outputs": [
        {
          "output_type": "stream",
          "text": [
            "Welcome to JupyROOT 6.13/08\n"
          ],
          "name": "stdout"
        },
        {
          "output_type": "display_data",
          "data": {
            "image/png": "[encoded data removed]",
            "text/plain": [
              "<IPython.core.display.Image object>"
            ]
          },
          "metadata": {
            "tags": []
          }
        }
      ]
    },
    {
      "cell_type": "markdown",
      "metadata": {
        "id": "VXW1M6XB0tXP"
      },
      "source": [
        "All being well - this should give no errors and we should have some kind of Gaussian distribution above.\n",
        "\n",
        "The next step is to get our data file - you can find it on Canvas here: https://maastrichtuniversity.instructure.com/courses/5826/files/553829?module_item_id=115201\n",
        "\n",
        "Then upload it either directly or to your Google Drive and then mount this to your Colab environment"
      ]
    },
    {
      "cell_type": "code",
      "metadata": {
        "id": "Co476pbmBvBB",
        "colab": {
          "base_uri": "https://localhost:8080/",
          "height": 642
        },
        "outputId": "fd4687eb-d394-4771-e698-ca30f6366fdc"
      },
      "source": [
        "#Since we need to use ROOT, we must first import this into Python:\n",
        "import ROOT\n",
        "#Then we open the ROOT file using the TFile command. - note you need to make this file path correct for your own setup!\n",
        "f = ROOT.TFile.Open(\"/content/drive/MyDrive/B2HHH_MagnetUp.root\", \"READONLY\")\n",
        "#From our file, we have to extract the DecayTree \n",
        "tree=f.Get(\"data\")\n",
        "#Now we can grab some variables as a test:\n",
        "ymomentum = ROOT.RooRealVar(\"H1_PY\",\"H1 Y Momentum\",-3000,3000,\"MeV/c\")\n",
        "xmomentum = ROOT.RooRealVar(\"H1_PX\",\"H1 X Momentum\",-3000,3000,\"MeV/c\")\n",
        "zmomentum = ROOT.RooRealVar(\"H1_PZ\",\"H1 Z Momentum\",-3000,3000,\"MeV/c\")\n",
        "# We then create a dataset for us to play with\n",
        "data = ROOT.RooDataSet(\"data\",\"data set\", tree, ROOT.RooArgSet(xmomentum,ymomentum,zmomentum), \"1==1\")\n",
        "# Now we create a canvas, plot our data onto the canvas and draw it:\n",
        "c = ROOT.TCanvas(\"c\",\"c\")\n",
        "frame = xmomentum.frame()\n",
        "frame2= ymomentum.frame()\n",
        "frame3= zmomentum.frame()\n",
        "data.plotOn(frame)\n",
        "\n",
        "\n",
        "frame.Draw()\n",
        "c.Draw()"
      ],
      "execution_count": 5,
      "outputs": [
        {
          "output_type": "stream",
          "text": [
            "\n",
            "\u001b[1mRooFit v3.60 -- Developed by Wouter Verkerke and David Kirkby\u001b[0m \n",
            "                Copyright (C) 2000-2013 NIKHEF, University of California & Stanford University\n",
            "                All rights reserved, please read http://roofit.sourceforge.net/license.txt\n",
            "\n",
            "[#1] INFO:Eval -- RooAbsReal::attachToTree(H1_PX) TTree Float_t branch H1_PX will be converted to double precision\n",
            "[#1] INFO:Eval -- RooAbsReal::attachToTree(H1_PY) TTree Float_t branch H1_PY will be converted to double precision\n",
            "[#1] INFO:Eval -- RooAbsReal::attachToTree(H1_PZ) TTree Float_t branch H1_PZ will be converted to double precision\n",
            "[#1] INFO:Eval -- RooTreeDataStore::loadValues(data) Ignored 3305139 out of range events\n"
          ],
          "name": "stdout"
        },
        {
          "output_type": "display_data",
          "data": {
            "image/png": "[encoded data removed]",
            "text/plain": [
              "<IPython.core.display.Image object>"
            ]
          },
          "metadata": {
            "tags": []
          }
        }
      ]
    },
    {
      "cell_type": "markdown",
      "metadata": {
        "id": "4e4n4iS3IJZi"
      },
      "source": [
        "#Why are we here?\n",
        "\n",
        "This week is about finding out something about one of the fundemental questions in physics. Why do we have \"stuff\".\n",
        "\n",
        "According to many of our models, and according to many measurements in particle physics, matter and anti-matter appear to be produced in equal quantities.\n",
        "\n",
        "However, when one looks at the Universe in general, we have more matter than anti-matter left - so there need to be some processes where anti-matter and matter are not produced equally. You can find out more about the Matter/Anti-Matter Asymmetry [here](http://press.web.cern.ch/backgrounders/matterantimatter-asymmetry)\n",
        "\n",
        "One place we look for this asymetry is in [charge-partity (CP) violation](https://www.symmetrymagazine.org/article/october-2005/explain-it-in-60-seconds) in particle physics processes. This essentially says that the processes that happen in the anti-particle version of a decay do not **exactly** match to the processes that happen in the particle version of the decay.\n",
        "\n",
        "\n",
        "\n",
        "---\n",
        "\n",
        "\n",
        "\n",
        "At LHCb, we produce both particle of the  B<sup>+</sup> meson and it's antiparticle the B<sup>-</sup> meson.\n",
        "\n",
        "We cannot detect these mesons directly. They decay into other things before we have a chance to measure them properly. So we collect data on the decay products, often called daughter particles. There are 524 [documented](http://pdg.lbl.gov/2014/listings/rpp2014-list-B-plus-minus.pdf) ways that the B<sup>+/-</sup> decays into various combinations. In order to simplify the process, we choose decay combinations that are convenient or have particular properties.\n",
        "\n",
        "In this analysis, we will take the process:-\n",
        "\n",
        "B<sup>+</sup>->K<sup>+</sup> + K<sup>+</sup>  + K<sup>-</sup>\n",
        "\n",
        "or\n",
        "\n",
        "B<sup>-</sup>->K<sup>-</sup> + K<sup>-</sup>  + K<sup>+</sup>\n",
        "\n",
        "\n",
        "To do so, we are given the following data for each event in our system:-\n",
        "\n",
        "![alt text](https://raw.githubusercontent.com/lhcb/opendata-project/80d64a3796e593fc8f9b257e85f32ae2e54f131f/Images/Variables.png)\n",
        "\n",
        "Here, H1 is the detected daughter particle (so a Kaon or a Pion), **not** the B-meson - the mother particle. Normally we would have to do some reconstruction from the decay products (the Daughters) to the Mother to be able to make some conclusions.\n",
        "\n",
        "Let's get started with working with this data:"
      ]
    },
    {
      "cell_type": "markdown",
      "metadata": {
        "id": "LOhfj7kfP-ao"
      },
      "source": [
        "For our analysis, the momentum of each of the daughter particles is split into the three cartesian components. We have combined these into a variable called H1_Ptot"
      ]
    },
    {
      "cell_type": "code",
      "metadata": {
        "id": "Y4keyoyTPjsK",
        "colab": {
          "base_uri": "https://localhost:8080/",
          "height": 608
        },
        "outputId": "bd84a5f3-6356-4c1c-c210-ca30365b054d"
      },
      "source": [
        "#Here make a plot of the Total momentum of each of the three daughters\r\n",
        "\r\n",
        "f = ROOT.TFile.Open(\"/content/drive/MyDrive/B2HHH_MagnetUp.root\", \"READONLY\")\r\n",
        "#From our file, we have to extract the DecayTree \r\n",
        "tree=f.Get(\"data\")\r\n",
        "\r\n",
        "tot1momentum = ROOT.RooRealVar(\"H1_Ptot\",\"H1 Total Momentum\",0,60000,\"MeV/c\")\r\n",
        "tot2momentum = ROOT.RooRealVar(\"H2_Ptot\",\"H2 Total Momentum\",0,60000,\"MeV/c\")\r\n",
        "tot3momentum = ROOT.RooRealVar(\"H3_Ptot\",\"H3 Total Momentum\",0,60000,\"MeV/c\")\r\n",
        "\r\n",
        "data1 = ROOT.RooDataSet(\"data\",\"data set\", tree, ROOT.RooArgSet(tot1momentum), \"1==1\")\r\n",
        "data2 = ROOT.RooDataSet(\"data\",\"data set\", tree, ROOT.RooArgSet(tot2momentum), \"1==1\")\r\n",
        "data3 = ROOT.RooDataSet(\"data\",\"data set\", tree, ROOT.RooArgSet(tot3momentum), \"1==1\")\r\n",
        "\r\n",
        "# Now we create a canvas, plot our data onto the canvas and draw it:\r\n",
        "c = ROOT.TCanvas(\"c\",\"c\")\r\n",
        "\r\n",
        "\r\n",
        "frame1 = tot1momentum.frame()\r\n",
        "frame2 = tot2momentum.frame()\r\n",
        "frame3 = tot3momentum.frame()\r\n",
        "\r\n",
        "\r\n",
        "data1.plotOn(frame1)\r\n",
        "data2.plotOn(frame2)\r\n",
        "data3.plotOn(frame3)\r\n",
        "\r\n",
        "frame1.Draw()\r\n",
        "frame2.Draw(\"same\")\r\n",
        "frame3.Draw(\"same\")\r\n",
        "\r\n",
        "c.Draw()\r\n",
        "\r\n",
        "\r\n"
      ],
      "execution_count": 6,
      "outputs": [
        {
          "output_type": "stream",
          "text": [
            "[#1] INFO:Eval -- RooAbsReal::attachToTree(H1_Ptot) TTree Float_t branch H1_Ptot will be converted to double precision\n",
            "[#1] INFO:Eval -- RooTreeDataStore::loadValues(data) Ignored 986594 out of range events\n",
            "[#1] INFO:Eval -- RooAbsReal::attachToTree(H2_Ptot) TTree Float_t branch H2_Ptot will be converted to double precision\n",
            "[#1] INFO:Eval -- RooTreeDataStore::loadValues(data) Ignored 285532 out of range events\n",
            "[#1] INFO:Eval -- RooAbsReal::attachToTree(H3_Ptot) TTree Float_t branch H3_Ptot will be converted to double precision\n",
            "[#1] INFO:Eval -- RooTreeDataStore::loadValues(data) Ignored 1720393 out of range events\n"
          ],
          "name": "stdout"
        },
        {
          "output_type": "stream",
          "text": [
            "Warning in <TCanvas::Constructor>: Deleting canvas with same name: c\n"
          ],
          "name": "stderr"
        },
        {
          "output_type": "display_data",
          "data": {
            "image/png": "[encoded data removed]",
            "text/plain": [
              "<IPython.core.display.Image object>"
            ]
          },
          "metadata": {
            "tags": []
          }
        }
      ]
    },
    {
      "cell_type": "markdown",
      "metadata": {
        "id": "C1lXLMCoR1Gi"
      },
      "source": [
        "Now plot the total momentum for the mother (M_Ptot)"
      ]
    },
    {
      "cell_type": "code",
      "metadata": {
        "id": "6kdbiNpPR1QG",
        "colab": {
          "base_uri": "https://localhost:8080/",
          "height": 540
        },
        "outputId": "a79ffe74-f705-4f21-e872-dd26bd97a2b8"
      },
      "source": [
        "#use the histogram plotting tools, plot the momentum of the mother\r\n",
        "\r\n",
        "#Now we can check if we have everything working as we expect: \r\n",
        "#We define a 1 dimensional histogram, with 100 bins which ranges from -4 to +4\r\n",
        "mothermomentum = ROOT.RooRealVar(\"M_Ptot\",\"MotherParticle Total Momentum\",20000,300000,\"MeV/c\")\r\n",
        "\r\n",
        "data = ROOT.RooDataSet(\"data\",\"data set\", tree, ROOT.RooArgSet(mothermomentum), \"1==1\")\r\n",
        "\r\n",
        "# Now we create a canvas, plot our data onto the canvas and draw it:\r\n",
        "c = ROOT.TCanvas(\"c\",\"c\")\r\n",
        "\r\n",
        "frame1 = mothermomentum.frame()\r\n",
        "\r\n",
        "data.plotOn(frame1)\r\n",
        "\r\n",
        "frame1.Draw()\r\n",
        "\r\n",
        "c.Draw()"
      ],
      "execution_count": 7,
      "outputs": [
        {
          "output_type": "stream",
          "text": [
            "[#1] INFO:Eval -- RooAbsReal::attachToTree(M_Ptot) TTree Float_t branch M_Ptot will be converted to double precision\n",
            "[#1] INFO:Eval -- RooTreeDataStore::loadValues(data) Ignored 130564 out of range events\n"
          ],
          "name": "stdout"
        },
        {
          "output_type": "stream",
          "text": [
            "Warning in <TCanvas::Constructor>: Deleting canvas with same name: c\n"
          ],
          "name": "stderr"
        },
        {
          "output_type": "display_data",
          "data": {
            "image/png": "[encoded data removed]",
            "text/plain": [
              "<IPython.core.display.Image object>"
            ]
          },
          "metadata": {
            "tags": []
          }
        }
      ]
    },
    {
      "cell_type": "markdown",
      "metadata": {
        "id": "Gj5qv5kqSMIF"
      },
      "source": [
        "Let's take a look at the whole data file that is available to us by looking at one specific entry - number 45"
      ]
    },
    {
      "cell_type": "code",
      "metadata": {
        "id": "QMkih_6SSG8I",
        "colab": {
          "base_uri": "https://localhost:8080/"
        },
        "outputId": "9fcb167b-d17b-4dc4-b451-3e912b815de8"
      },
      "source": [
        "tree.Show(45)"
      ],
      "execution_count": 8,
      "outputs": [
        {
          "output_type": "stream",
          "text": [
            "======> EVENT:45\n",
            " B_FlightDistance = 4.71407\n",
            " B_VertexChi2    = 11.5278\n",
            " H1_PX           = 133.376\n",
            " H1_PY           = -1293.52\n",
            " H1_PZ           = 33534.2\n",
            " H1_ProbK        = 0.00735235\n",
            " H1_ProbPi       = 0.204907\n",
            " H1_Charge       = 1\n",
            " H1_IPChi2       = 22.9885\n",
            " H1_isMuon       = 0\n",
            " H2_PX           = 518.943\n",
            " H2_PY           = -1966.2\n",
            " H2_PZ           = 52184.7\n",
            " H2_ProbK        = 0.00482044\n",
            " H2_ProbPi       = 0.266655\n",
            " H2_Charge       = -1\n",
            " H2_IPChi2       = 20.5652\n",
            " H2_isMuon       = 0\n",
            " H3_PX           = 1383.62\n",
            " H3_PY           = -2008.35\n",
            " H3_PZ           = 12154\n",
            " H3_ProbK        = 0.0800247\n",
            " H3_ProbPi       = 0.403711\n",
            " H3_Charge       = -1\n",
            " H3_IPChi2       = 1584.95\n",
            " H3_isMuon       = 0\n",
            " H1_Ptot         = 33559.4\n",
            " H1_type         = 1\n",
            " H1_E            = 33559.7\n",
            " H2_Ptot         = 52224.4\n",
            " H2_type         = 1\n",
            " H2_E            = 52224.5\n",
            " H3_Ptot         = 12396.2\n",
            " H3_type         = 1\n",
            " H3_E            = 12397\n",
            " M_Ptot          = 98035.7\n",
            " M_E             = 98181.3\n",
            " M_m0            = 5343.69\n"
          ],
          "name": "stdout"
        }
      ]
    },
    {
      "cell_type": "markdown",
      "metadata": {
        "id": "w3sqwtNTUEJd"
      },
      "source": [
        "We have now completed the initial steps and begun to work through what we need to with the data. This is a perfect moment to take a coffee!"
      ]
    },
    {
      "cell_type": "markdown",
      "metadata": {
        "id": "6RhWWqt3a8_e"
      },
      "source": [
        "Having discovered all of the relevant information about our daughter particles, we need to combine the measurements about them into a single mother - which will be our B<sup>+</sup> or our B<sup>-</sup>\r\n",
        "\r\n",
        "Having found our momentum and energy, we can use these quantities to find our experimental mass (not the theoretical mass as we have used for the reconstruction).\r\n",
        "\r\n",
        "When we calculate this, we will get a distribution of masses. This is due to errors in the measurements made either by the detector, or in the experiment itself. We hope to have a reasonably narrow peak to work with, but, sometimes this is not possible.\r\n",
        "\r\n",
        "Additionally there will be other particles in the detector - which means our daughters might have come from two or even three different processes. Events which don't come from the same process will give a higher or lower mass than we are looking for. This is typically called the *background* while events which come from our event of interest are called the *signal*"
      ]
    },
    {
      "cell_type": "code",
      "metadata": {
        "id": "onr7-8CMbbFf",
        "colab": {
          "base_uri": "https://localhost:8080/",
          "height": 506
        },
        "outputId": "253ed258-faaa-42a9-e743-1785d123197b"
      },
      "source": [
        "#Now plot a histogram of the range of masses of the B meson.\r\n",
        "\r\n",
        "c = ROOT.TCanvas(\"canvas\")\r\n",
        "\r\n",
        "tree.Draw(\"M_m0\"+ \">> massM(1000,0,7000)\")\r\n",
        "\r\n",
        "h = ROOT.gDirectory.Get(\"massM\")\r\n",
        "\r\n",
        "\r\n",
        "h.SetYTitle(\"Events\")\r\n",
        "h.SetXTitle(\"Mass(MeV)\")\r\n",
        "\r\n",
        "c.Draw()\r\n",
        "\r\n",
        "\r\n",
        "#Does this match what we would expect from theory?"
      ],
      "execution_count": 10,
      "outputs": [
        {
          "output_type": "stream",
          "text": [
            "Warning in <TCanvas::Constructor>: Deleting canvas with same name: canvas\n"
          ],
          "name": "stderr"
        },
        {
          "output_type": "display_data",
          "data": {
            "image/png": "[encoded data removed]",
            "text/plain": [
              "<IPython.core.display.Image object>"
            ]
          },
          "metadata": {
            "tags": []
          }
        }
      ]
    },
    {
      "cell_type": "markdown",
      "metadata": {
        "id": "MWGFKFnXb0RP"
      },
      "source": [
        "We know that some of our particles are the B+ and some are the B- particle. There will also be some particles in our system that are not coming from a genuine B+/- or are a B+/- but are not constructed from Kaons.\r\n",
        "\r\n",
        "We have some tools available to help:-\r\n",
        "\r\n",
        "  *  During detection, software attributes the probability of a particle being a Kaon or a Pion (in the H1_ProbK or H1_ProbPi variable)\r\n",
        "  * The detector also knows if the particle was a Muon - since it has detectors specifically for these. So it can attribute a 0 or a 1 to this probability\r\n",
        "  * The reconstructed vertex has a some kind of quality associated with it (we call this the Vertex χ2 (this is the variable B_VertexChi2). This is the statistical measure that determines how well we found a single point to be the source of all three particles.\r\n",
        "\r\n"
      ]
    },
    {
      "cell_type": "markdown",
      "metadata": {
        "id": "fEpnSmH4b9HZ"
      },
      "source": [
        "In order to get a better result, we should select our data to have the properties we desire and make some rules (often called a selection) to cut away data we don't want to include for various reasons. e.g. we know we don't have any muons in our decay - so any time H1/H2/H3 are a muon they should be excluded. The other variables are not so clear - so we can plot them to make a decision."
      ]
    },
    {
      "cell_type": "code",
      "metadata": {
        "id": "k0vikJp0cAvv",
        "colab": {
          "base_uri": "https://localhost:8080/",
          "height": 506
        },
        "outputId": "18e2b823-4b9a-4e2f-e734-c92e6c987b27"
      },
      "source": [
        "#Make plots of H1/H2/H3 _ProbK on one plot\r\n",
        "c = ROOT.TCanvas(\"canvas\")\r\n",
        "\r\n",
        "\r\n",
        "tree.Draw(\"H1_ProbK\"+\">>histogram1(100,1)\")\r\n",
        "tree.Draw(\"H2_ProbK\"+\">>histogram2(100,1)\")\r\n",
        "tree.Draw(\"H3_ProbK\"+\">>histogram3(100,1)\")\r\n",
        "\r\n",
        "\r\n",
        "h1= ROOT.gDirectory.Get(\"histogram1\")\r\n",
        "h2= ROOT.gDirectory.Get(\"histogram2\")\r\n",
        "h3= ROOT.gDirectory.Get(\"histogram3\")\r\n",
        "\r\n",
        "h1.SetLineColor(1)\r\n",
        "h2.SetLineColor(2)\r\n",
        "h3.SetLineColor(3)\r\n",
        "\r\n",
        "h1.Draw()\r\n",
        "h2.Draw(\"Same\")\r\n",
        "h3.Draw(\"Same\")\r\n",
        "\r\n",
        "h1.SetXTitle(\"Probability\")\r\n",
        "h1.SetYTitle(\"Events\")\r\n",
        "\r\n",
        "leg = ROOT.TLegend(0.45,.95,.3,.8)\r\n",
        "leg.SetBorderSize(1)\r\n",
        "leg.SetFillColor(0)\r\n",
        "leg.SetFillStyle(0)\r\n",
        "leg.SetTextFont(42)\r\n",
        "leg.SetTextSize(0.035)\r\n",
        "leg.AddEntry(h1,\"H1_ProbK\",\"L\")\r\n",
        "leg.AddEntry(h2,\"H2_ProbK\",\"L\")\r\n",
        "leg.AddEntry(h3,\"H3_ProbK\",\"L\")\r\n",
        "leg.Draw()\r\n",
        "\r\n",
        "c.Draw()\r\n",
        "\r\n",
        "#For all our particles, make a plot of the B_VertexChi2"
      ],
      "execution_count": 11,
      "outputs": [
        {
          "output_type": "stream",
          "text": [
            "Warning in <TCanvas::Constructor>: Deleting canvas with same name: canvas\n"
          ],
          "name": "stderr"
        },
        {
          "output_type": "display_data",
          "data": {
            "image/png": "[encoded data removed]",
            "text/plain": [
              "<IPython.core.display.Image object>"
            ]
          },
          "metadata": {
            "tags": []
          }
        }
      ]
    },
    {
      "cell_type": "code",
      "metadata": {
        "colab": {
          "base_uri": "https://localhost:8080/",
          "height": 506
        },
        "id": "dFPQo-hO4fL1",
        "outputId": "6bedf78d-5738-4292-e7ae-d9ca624fe699"
      },
      "source": [
        "#Make plots of H1/H2/H3 _ProbPi on one plot\r\n",
        "\r\n",
        "c2 = ROOT.TCanvas(\"canvas\")\r\n",
        "\r\n",
        "\r\n",
        "tree.Draw(\"H1_ProbPi\"+\">>histogram1(500,1)\")\r\n",
        "tree.Draw(\"H2_ProbPi\"+\">>histogram2(500,1)\")\r\n",
        "tree.Draw(\"H3_ProbPi\"+\">>histogram3(500,1)\")\r\n",
        "\r\n",
        "\r\n",
        "h1= ROOT.gDirectory.Get(\"histogram1\")\r\n",
        "h2= ROOT.gDirectory.Get(\"histogram2\")\r\n",
        "h3= ROOT.gDirectory.Get(\"histogram3\")\r\n",
        "\r\n",
        "h1.SetLineColor(1)\r\n",
        "h2.SetLineColor(2)\r\n",
        "h3.SetLineColor(4)\r\n",
        "\r\n",
        "h1.Draw()\r\n",
        "h2.Draw(\"Same\")\r\n",
        "h3.Draw(\"Same\")\r\n",
        "\r\n",
        "h1.SetXTitle(\"Probability\")\r\n",
        "h1.SetYTitle(\"Events\")\r\n",
        "\r\n",
        "leg = ROOT.TLegend(0.45,.95,.3,.8)\r\n",
        "leg.SetBorderSize(1)\r\n",
        "leg.SetFillColor(0)\r\n",
        "leg.SetFillStyle(0)\r\n",
        "leg.SetTextFont(42)\r\n",
        "leg.SetTextSize(0.035)\r\n",
        "leg.AddEntry(h1,\"H1_ProbPi\",\"L\")\r\n",
        "leg.AddEntry(h2,\"H2_ProbPi\",\"L\")\r\n",
        "leg.AddEntry(h3,\"H3_ProbPi\",\"L\")\r\n",
        "leg.Draw()\r\n",
        "\r\n",
        "c2.Draw()"
      ],
      "execution_count": 12,
      "outputs": [
        {
          "output_type": "stream",
          "text": [
            "Warning in <TCanvas::Constructor>: Deleting canvas with same name: canvas\n"
          ],
          "name": "stderr"
        },
        {
          "output_type": "display_data",
          "data": {
            "image/png": "[encoded data removed]",
            "text/plain": [
              "<IPython.core.display.Image object>"
            ]
          },
          "metadata": {
            "tags": []
          }
        }
      ]
    },
    {
      "cell_type": "code",
      "metadata": {
        "colab": {
          "base_uri": "https://localhost:8080/",
          "height": 506
        },
        "id": "hhqhjHtZ4tBe",
        "outputId": "99ed792d-4706-4a92-8f79-154f7178d706"
      },
      "source": [
        "#For all our particles, make a plot of the B_VertexChi2\r\n",
        "c3 = ROOT.TCanvas(\"canvas\")\r\n",
        "\r\n",
        "tree.Draw(\"B_VertexChi2\"+\">>histogram1(100,0,12.25)\")\r\n",
        "h1= ROOT.gDirectory.Get(\"histogram1\")\r\n",
        "h1.SetLineColor(1)\r\n",
        "\r\n",
        "h1.Draw()\r\n",
        "\r\n",
        "h1.SetXTitle(\"Probability\")\r\n",
        "h1.SetYTitle(\"Events\")\r\n",
        "\r\n",
        "leg = ROOT.TLegend(0.68,.90,.40,.8)\r\n",
        "leg.SetBorderSize(1)\r\n",
        "leg.SetFillColor(0)\r\n",
        "leg.SetFillStyle(0)\r\n",
        "leg.SetTextFont(42)\r\n",
        "leg.SetTextSize(0.035)\r\n",
        "leg.AddEntry(h1,\"B_VertexChi2\",\"L\")\r\n",
        "leg.Draw()\r\n",
        "\r\n",
        "c3.Draw()"
      ],
      "execution_count": 13,
      "outputs": [
        {
          "output_type": "stream",
          "text": [
            "Warning in <TCanvas::Constructor>: Deleting canvas with same name: canvas\n"
          ],
          "name": "stderr"
        },
        {
          "output_type": "display_data",
          "data": {
            "image/png": "[encoded data removed]",
            "text/plain": [
              "<IPython.core.display.Image object>"
            ]
          },
          "metadata": {
            "tags": []
          }
        }
      ]
    },
    {
      "cell_type": "markdown",
      "metadata": {
        "id": "DWmxBkZ0cDx1"
      },
      "source": [
        "Using these plots, we can now make a preselection string. This is a text string that looks like "
      ]
    },
    {
      "cell_type": "code",
      "metadata": {
        "id": "U1IGKyZXcGJP"
      },
      "source": [
        "#This example is for each daughter particle to have a Probability of being a Pion being more than 90% and H1 to not be a muon\r\n",
        "#This is not a good choice of selection - you should make your own :)\r\n",
        "selection=(\"H1_ProbPi>0.9&H2_ProbPi>0.9&H3_ProbPi>0.9&!H1_isMuon&H2_isElectron&H3_isElephant\")"
      ],
      "execution_count": 61,
      "outputs": []
    },
    {
      "cell_type": "code",
      "metadata": {
        "id": "MxD7JMeicMu0"
      },
      "source": [
        "#To apply the selection - we can use the copytree command:\r\n",
        "selection=(\"H1_ProbK>0.9\")\r\n",
        "CutTree=tree.CopyTree(selection)\r\n",
        "\r\n",
        "#So now we take our data in tree and apply selection to it (so only events which comply with those rules are kept) and put the new data in CutTree"
      ],
      "execution_count": 62,
      "outputs": []
    },
    {
      "cell_type": "code",
      "metadata": {
        "id": "hmmsoUwEcOir",
        "colab": {
          "base_uri": "https://localhost:8080/",
          "height": 489
        },
        "outputId": "d7acf6bc-a6ab-40e5-a7ce-7e04bb418068"
      },
      "source": [
        "#Now as a good check, we should see the effect of applying our cuts.\r\n",
        "#On one histogram, plot the B meson mass, from both the tree (pre-cuts) and the CutTree (post-cuts)\r\n",
        "c = ROOT.TCanvas(\"canvas\")\r\n",
        "\r\n",
        "\r\n",
        "tree.Draw(\"M_m0\"+\">>histogram1(1000,1)\")\r\n",
        "CutTree.Draw(\"M_m0\"+\">>histogram2(1000,1)\")\r\n",
        "\r\n",
        "h1= ROOT.gDirectory.Get(\"histogram1\")\r\n",
        "h2= ROOT.gDirectory.Get(\"histogram2\")\r\n",
        "\r\n",
        "h1.SetLineColor(1)\r\n",
        "h2.SetLineColor(2)\r\n",
        "\r\n",
        "\r\n",
        "h1.Draw()\r\n",
        "h2.Draw(\"Same\")\r\n",
        "\r\n",
        "h1.SetXTitle(\"Mass(MeV)\")\r\n",
        "h1.SetYTitle(\"Events\")\r\n",
        "\r\n",
        "leg = ROOT.TLegend(0.68,.90,.40,.8)\r\n",
        "leg.SetBorderSize(1)\r\n",
        "leg.SetFillColor(0)\r\n",
        "leg.SetFillStyle(0)\r\n",
        "leg.SetTextFont(42)\r\n",
        "leg.SetTextSize(0.035)\r\n",
        "leg.AddEntry(h1,\"B_VertexChi2\",\"L\")\r\n",
        "leg.AddEntry(h2,\"B_VertexChi2\",\"L\")\r\n",
        "leg.Draw()\r\n",
        "\r\n",
        "c.Draw()\r\n",
        "\r\n",
        "#What do you notice about your histogram now?"
      ],
      "execution_count": 63,
      "outputs": [
        {
          "output_type": "display_data",
          "data": {
            "image/png": "[encoded data removed]",
            "text/plain": [
              "<IPython.core.display.Image object>"
            ]
          },
          "metadata": {
            "tags": []
          }
        }
      ]
    },
    {
      "cell_type": "markdown",
      "metadata": {
        "id": "N1tResqvcMgQ"
      },
      "source": [
        "#How do we count the number of events?\r\n",
        "\r\n",
        "We now have a histogram of events that we have reconstructed as a B meson. But some of these events are caused by a co-incidence of events which would still occur if there were no B mesons actually produced. We call this the background. Background and signal are indistinguishable now as the detector cannot tell the difference and our cuts were unable to remove the events for physics reasons. We can do some statistical analysis, if we know the approximate shapes of our signal and our background. Just like a least-squares fitting we can run a fit routine to minimise the error between the fitted curve and our data. As an example, if we know our data has an exponential background and a gaussian signal:\r\n",
        "\r\n",
        "![Gaussian+Exp Background](https://twiki.cern.ch/twiki/pub/RooStats/RooStatsTutorialsJune2013/GausExpModelFit.png)\r\n",
        "\r\n",
        "Here the red line represents our signal, the blue dotted line is our background and the solid blue line is our combined curve. The graph also shows the number of signal events and the number of background events. The signal now is a tiny fraction of the total data shown in the plot.\r\n",
        "\r\n",
        "In order to do this, we need to build a fit model, around which the software can try to fit our data.\r\n",
        "\r\n",
        "We use RooFit for this, which includes:\r\n",
        "* Gaussian\r\n",
        "* Exponential\r\n",
        "* Chebychev\r\n",
        "* Crystal Ball\r\n",
        "* Breit-Wigner\r\n",
        "\r\n",
        "As well as several other choices.\r\n",
        "\r\n",
        "Typically exponential and Chebychev functions are used for background and Gaussian, Crystal Ball and Breit-Wigner are used for signal. We can also combine them (e.g. 1 crystal ball, 1 gaussian, 1 exponential) in various ways."
      ]
    },
    {
      "cell_type": "code",
      "metadata": {
        "id": "R_7q_HY1qhiS"
      },
      "source": [
        "#define physical measurment that we want to fit using RooRealVar\r\n",
        "#var = ROOT.RooRealVar =(\"Variable from Python\", \"Nickname\",Min, Max, Units)\r\n",
        "mass = ROOT.RooRealVar(\"M_m0\",\"Mass\",5000,5550,\"MeV/C^{2}\")\r\n",
        "\r\n",
        "#passing the rest of the variables into the model\r\n",
        "#For the RooRealVar the last three parameters are given, \"starting value\" and min/max values\r\n",
        "gaussMean = ROOT.RooRealVar(\"Mean\",\"Mean\",5300,5250,5350)\r\n",
        "gaussWidth = ROOT.RooRealVar(\"Width\",\"Width\",20,0,40)\r\n",
        "\r\n",
        "#Now we have enough to make our Model for the signal:\r\n",
        "\r\n",
        "Gauss=ROOT.RooGaussian(\"Gaussian Signal\",\"Gauss\",mass,gaussMean,gaussWidth)\r\n",
        "Gauss_Norm= ROOT.RooRealVar(\"Gauss_Norm\",\"Signal Yield\", tree.GetEntries()/30, 0, tree.GetEntries() * 3)\r\n",
        "#We also need a background, so let's use a (simple) exponential:\r\n",
        "\r\n",
        "exponent=ROOT.RooRealVar(\"exponent\", \"C\", -0.02, -2, +2)\r\n",
        "exp_Norm= ROOT.RooRealVar(\"exp_Norm\",\"Background Yield\", tree.GetEntries()/30, 0, tree.GetEntries() * 2)\r\n",
        "\r\n",
        "#Define the  model for the background:\r\n",
        "\r\n",
        "Bkgnd=ROOT.RooExponential(\"Exponential Background\",\"Bkgnd\",mass,exponent)\r\n",
        "\r\n",
        "#Now we need to combine these two functions into a single PDF (probability density function)\r\n",
        "#and we need to add the normalisation factors at the end as scaling factors\r\n",
        "\r\n",
        "model=ROOT.RooAddPdf(\"Full Model\",\"model\",ROOT.RooArgList(Gauss,Bkgnd),ROOT.RooArgList(Gauss_Norm, exp_Norm) )"
      ],
      "execution_count": 64,
      "outputs": []
    },
    {
      "cell_type": "code",
      "metadata": {
        "id": "PL-qVvs-dw86",
        "colab": {
          "base_uri": "https://localhost:8080/"
        },
        "outputId": "5a022c4e-f933-45cd-e376-76bde6e3a1cb"
      },
      "source": [
        "#Put our data set into a RooDataSet structure\r\n",
        "\r\n",
        "data_to_fit=ROOT.RooDataSet(\"Data Set\",\"data_to_fit\", CutTree, ROOT.RooArgSet(mass))\r\n",
        "\r\n",
        "#Then we can do the fitting:\r\n",
        "\r\n",
        "model.fitTo(data_to_fit)\r\n",
        "\r\n",
        "#if everything went well, you will see the outputs of RooFit below"
      ],
      "execution_count": 65,
      "outputs": [
        {
          "output_type": "execute_result",
          "data": {
            "text/plain": [
              "<ROOT.RooFitResult object at 0x(nil)>"
            ]
          },
          "metadata": {
            "tags": []
          },
          "execution_count": 65
        },
        {
          "output_type": "stream",
          "text": [
            "[#1] INFO:Eval -- RooAbsReal::attachToTree(M_m0) TTree Float_t branch M_m0 will be converted to double precision\n",
            "[#1] INFO:Eval -- RooTreeDataStore::loadValues(Data Set) Ignored 49271 out of range events\n",
            "[#1] INFO:Minization -- p.d.f. provides expected number of events, including extended term in likelihood.\n",
            "[#1] INFO:Minization -- RooMinimizer::optimizeConst: activating const optimization\n",
            "[#1] INFO:Minization --  The following expressions will be evaluated in cache-and-track mode: (Gaussian Signal,Exponential Background)\n",
            " **********\n",
            " **   55 **SET PRINT           1\n",
            " **********\n",
            " **********\n",
            " **   56 **SET NOGRAD\n",
            " **********\n",
            " PARAMETER DEFINITIONS:\n",
            "    NO.   NAME         VALUE      STEP SIZE      LIMITS\n",
            "     1 Gauss_Norm   1.14006e+05  5.70030e+04    0.00000e+00  1.02606e+07\n",
            " MINUIT WARNING IN PARAM DEF\n",
            " ============== LIMITS ON PARAM1 TOO FAR APART.\n",
            " PARAMETER DEFINITIONS:\n",
            "    NO.   NAME         VALUE      STEP SIZE      LIMITS\n",
            "     2 Mean         5.30000e+03  1.00000e+01    5.25000e+03  5.35000e+03\n",
            "     3 Width        2.00000e+01  4.00000e+00    0.00000e+00  4.00000e+01\n",
            "     4 exp_Norm     1.14006e+05  5.70030e+04    0.00000e+00  6.84039e+06\n",
            "     5 exponent    -2.00000e-02  4.00000e-01   -2.00000e+00  2.00000e+00\n",
            " **********\n",
            " **   57 **SET ERR         0.5\n",
            " **********\n",
            " **********\n",
            " **   58 **SET PRINT           1\n",
            " **********\n",
            " **********\n",
            " **   59 **SET STR           1\n",
            " **********\n",
            " NOW USING STRATEGY  1: TRY TO BALANCE SPEED AGAINST RELIABILITY\n",
            " **********\n",
            " **   60 **MIGRAD        2500           1\n",
            " **********\n",
            " FIRST CALL TO USER FUNCTION AT NEW START POINT, WITH IFLAG=4.\n",
            " START MIGRAD MINIMIZATION.  STRATEGY  1.  CONVERGENCE WHEN EDM .LT. 1.00e-03\n",
            " FCN=14629.9 FROM MIGRAD    STATUS=INITIATE       22 CALLS          23 TOTAL\n",
            "                     EDM= unknown      STRATEGY= 1      NO ERROR MATRIX       \n",
            "  EXT PARAMETER               CURRENT GUESS       STEP         FIRST   \n",
            "  NO.   NAME      VALUE            ERROR          SIZE      DERIVATIVE \n",
            "   1  Gauss_Norm   1.14006e+05   5.70030e+04   5.48559e-02   9.22412e+05\n",
            "   2  Mean         5.30000e+03   1.00000e+01   2.01358e-01   9.30451e+03\n",
            "   3  Width        2.00000e+01   4.00000e+00   2.01358e-01  -3.60040e+04\n",
            "   4  exp_Norm     1.14006e+05   5.70030e+04   6.73657e-02   6.22256e+05\n",
            "   5  exponent    -2.00000e-02   4.00000e-01   2.01369e-01  -1.11614e+07\n",
            "                               ERR DEF= 0.5\n",
            "[#0] WARNING:Minization -- RooMinimizerFcn: Minimized function has error status.\n",
            "Returning maximum FCN so far (192699) to force MIGRAD to back out of this region. Error log follows\n",
            "Parameter values: Gauss_Norm=5930.67, Mean=5286.51, Width=39.6969, exp_Norm=21426.2, exponent=0.274282\n",
            "RooRealIntegral::Exponential Background_Int[M_m0][ Int Exponential Backgroundd[Ana](M_m0) ]\n",
            "     function value is NAN @ !sumList=(), !intList=(), !anaList=(M_m0 = 5180.1), !jacList=(), !facList=(), !func=Exponential Background=inf/3.403e-43, !sumCat=()\n",
            "RooNLLVar::nll_Full Model_Data Set[ paramSet=(Gauss_Norm,Mean,Width,exp_Norm,exponent) ]\n",
            "     function value is NAN @ paramSet=(Gauss_Norm = 5930.67,Mean = 5286.51,Width = 39.6969,exp_Norm = 21426.2,exponent = 0.274282)\n",
            "RooAddPdf::Full Model[ Gauss_Norm * Gaussian Signal + exp_Norm * Exponential Background ]\n",
            "     p.d.f value is Not-a-Number (-nan), forcing value to zero @ !refCoefNorm=(), !pdfs=(Gaussian Signal = 5.33442e-09/99.5053,Exponential Background = inf/-nan), !coefficients=(Gauss_Norm = 5930.67,exp_Norm = 21426.2)\n",
            "     getLogVal() top-level p.d.f evaluates to zero @ !refCoefNorm=(), !pdfs=(Gaussian Signal = 5.33442e-09/99.5053,Exponential Background = inf/-nan), !coefficients=(Gauss_Norm = 5930.67,exp_Norm = 21426.2)\n",
            "     p.d.f value is Not-a-Number (-nan), forcing value to zero @ !refCoefNorm=(), !pdfs=(Gaussian Signal = 0.907904/99.5053,Exponential Background = inf/-nan), !coefficients=(Gauss_Norm = 5930.67,exp_Norm = 21426.2)\n",
            "     getLogVal() top-level p.d.f evaluates to zero @ !refCoefNorm=(), !pdfs=(Gaussian Signal = 0.907904/99.5053,Exponential Background = inf/-nan), !coefficients=(Gauss_Norm = 5930.67,exp_Norm = 21426.2)\n",
            "     p.d.f value is Not-a-Number (-nan), forcing value to zero @ !refCoefNorm=(), !pdfs=(Gaussian Signal = 0.651907/99.5053,Exponential Background = inf/-nan), !coefficients=(Gauss_Norm = 5930.67,exp_Norm = 21426.2)\n",
            "     getLogVal() top-level p.d.f evaluates to zero @ !refCoefNorm=(), !pdfs=(Gaussian Signal = 0.651907/99.5053,Exponential Background = inf/-nan), !coefficients=(Gauss_Norm = 5930.67,exp_Norm = 21426.2)\n",
            "     p.d.f value is Not-a-Number (-nan), forcing value to zero @ !refCoefNorm=(), !pdfs=(Gaussian Signal = 0.0369983/99.5053,Exponential Background = inf/-nan), !coefficients=(Gauss_Norm = 5930.67,exp_Norm = 21426.2)\n",
            "     getLogVal() top-level p.d.f evaluates to zero @ !refCoefNorm=(), !pdfs=(Gaussian Signal = 0.0369983/99.5053,Exponential Background = inf/-nan), !coefficients=(Gauss_Norm = 5930.67,exp_Norm = 21426.2)\n",
            "     p.d.f value is Not-a-Number (-nan), forcing value to zero @ !refCoefNorm=(), !pdfs=(Gaussian Signal = 0.00821834/99.5053,Exponential Background = inf/-nan), !coefficients=(Gauss_Norm = 5930.67,exp_Norm = 21426.2)\n",
            "     getLogVal() top-level p.d.f evaluates to zero @ !refCoefNorm=(), !pdfs=(Gaussian Signal = 0.00821834/99.5053,Exponential Background = inf/-nan), !coefficients=(Gauss_Norm = 5930.67,exp_Norm = 21426.2)\n",
            "     p.d.f value is Not-a-Number (-nan), forcing value to zero @ !refCoefNorm=(), !pdfs=(Gaussian Signal = 0.38524/99.5053,Exponential Background = inf/-nan), !coefficients=(Gauss_Norm = 5930.67,exp_Norm = 21426.2)\n",
            "     getLogVal() top-level p.d.f evaluates to zero @ !refCoefNorm=(), !pdfs=(Gaussian Signal = 0.38524/99.5053,Exponential Background = inf/-nan), !coefficients=(Gauss_Norm = 5930.67,exp_Norm = 21426.2)\n",
            "    ... (remaining 2038 messages suppressed)\n",
            "\n",
            " MIGRAD MINIMIZATION HAS CONVERGED.\n",
            " MIGRAD WILL VERIFY CONVERGENCE AND ERROR MATRIX.\n",
            " COVARIANCE MATRIX CALCULATED SUCCESSFULLY\n",
            " FCN=-175508 FROM MIGRAD    STATUS=CONVERGED     203 CALLS         204 TOTAL\n",
            "                     EDM=5.62791e-06    STRATEGY= 1      ERROR MATRIX ACCURATE \n",
            "  EXT PARAMETER                                   STEP         FIRST   \n",
            "  NO.   NAME      VALUE            ERROR          SIZE      DERIVATIVE \n",
            "   1  Gauss_Norm   6.84676e+03   1.34294e+02   1.23673e-04   6.83145e-01\n",
            "   2  Mean         5.28126e+03   4.29016e-01   2.61775e-03   1.43612e-01\n",
            "   3  Width        2.01589e+01   4.33885e-01   5.39255e-03   9.56905e-02\n",
            "   4  exp_Norm     4.23795e+04   2.31389e+02   1.15388e-04   2.76897e+00\n",
            "   5  exponent    -1.47100e-03   3.14282e-05   4.51438e-06   1.51127e+01\n",
            "                               ERR DEF= 0.5\n",
            " EXTERNAL ERROR MATRIX.    NDIM=  25    NPAR=  5    ERR DEF=0.5\n",
            "  1.803e+04 -6.956e+00  2.787e+01 -1.117e+04 -4.166e-04 \n",
            " -6.956e+00  1.841e-01 -3.725e-02  6.941e+00 -5.385e-07 \n",
            "  2.787e+01 -3.725e-02  1.883e-01 -2.781e+01 -9.035e-07 \n",
            " -1.117e+04  6.941e+00 -2.781e+01  5.354e+04  4.162e-04 \n",
            " -4.166e-04 -5.385e-07 -9.035e-07  4.162e-04  9.877e-10 \n",
            " PARAMETER  CORRELATION COEFFICIENTS  \n",
            "       NO.  GLOBAL      1      2      3      4      5\n",
            "        1  0.53713   1.000 -0.121  0.478 -0.359 -0.099\n",
            "        2  0.20984  -0.121  1.000 -0.200  0.070 -0.040\n",
            "        3  0.51154   0.478 -0.200  1.000 -0.277 -0.066\n",
            "        4  0.37942  -0.359  0.070 -0.277  1.000  0.057\n",
            "        5  0.11771  -0.099 -0.040 -0.066  0.057  1.000\n",
            " **********\n",
            " **   61 **SET ERR         0.5\n",
            " **********\n",
            " **********\n",
            " **   62 **SET PRINT           1\n",
            " **********\n",
            " **********\n",
            " **   63 **HESSE        2500\n",
            " **********\n",
            " COVARIANCE MATRIX CALCULATED SUCCESSFULLY\n",
            " FCN=-175508 FROM HESSE     STATUS=OK             31 CALLS         235 TOTAL\n",
            "                     EDM=5.62114e-06    STRATEGY= 1      ERROR MATRIX ACCURATE \n",
            "  EXT PARAMETER                                INTERNAL      INTERNAL  \n",
            "  NO.   NAME      VALUE            ERROR       STEP SIZE       VALUE   \n",
            "   1  Gauss_Norm   6.84676e+03   1.34516e+02   4.94694e-06  -1.51913e+00\n",
            "   2  Mean         5.28126e+03   4.29448e-01   1.04710e-04  -3.84209e-01\n",
            "   3  Width        2.01589e+01   4.34981e-01   2.15702e-04   7.94346e-03\n",
            "   4  exp_Norm     4.23795e+04   2.31571e+02   2.30775e-05  -1.41321e+00\n",
            "   5  exponent    -1.47100e-03   3.14306e-05   1.80575e-07  -7.35501e-04\n",
            "                               ERR DEF= 0.5\n",
            " EXTERNAL ERROR MATRIX.    NDIM=  25    NPAR=  5    ERR DEF=0.5\n",
            "  1.809e+04 -7.063e+00  2.814e+01 -1.125e+04 -4.202e-04 \n",
            " -7.063e+00  1.844e-01 -3.831e-02  7.062e+00 -5.348e-07 \n",
            "  2.814e+01 -3.831e-02  1.892e-01 -2.813e+01 -9.142e-07 \n",
            " -1.125e+04  7.062e+00 -2.813e+01  5.363e+04  4.201e-04 \n",
            " -4.202e-04 -5.348e-07 -9.142e-07  4.201e-04  9.879e-10 \n",
            " PARAMETER  CORRELATION COEFFICIENTS  \n",
            "       NO.  GLOBAL      1      2      3      4      5\n",
            "        1  0.53932   1.000 -0.122  0.481 -0.361 -0.099\n",
            "        2  0.21438  -0.122  1.000 -0.205  0.071 -0.040\n",
            "        3  0.51515   0.481 -0.205  1.000 -0.279 -0.067\n",
            "        4  0.38118  -0.361  0.071 -0.279  1.000  0.058\n",
            "        5  0.11835  -0.099 -0.040 -0.067  0.058  1.000\n",
            "[#1] INFO:Minization -- RooMinimizer::optimizeConst: deactivating const optimization\n"
          ],
          "name": "stdout"
        }
      ]
    },
    {
      "cell_type": "code",
      "metadata": {
        "id": "bUhgxlRGd4XO",
        "colab": {
          "base_uri": "https://localhost:8080/",
          "height": 625
        },
        "outputId": "efc97c6c-55d7-4874-f31d-85aab1c1017a"
      },
      "source": [
        "#Now to plot it all\r\n",
        "c1=ROOT.TCanvas(\"c1\",\"c1\")\r\n",
        "frame = mass.frame()\r\n",
        "data_to_fit.plotOn(frame)\r\n",
        "model.plotOn(frame, ROOT.RooFit.Components(\"Gaussian Signal\"),ROOT.RooFit.LineColor(8),ROOT.RooFit.LineStyle(2))\r\n",
        "model.plotOn(frame, ROOT.RooFit.Components(\"Exponential Background\"),ROOT.RooFit.LineColor(46),ROOT.RooFit.LineStyle(2)) \r\n",
        "model.plotOn(frame)\r\n",
        "\r\n",
        "frame.chiSquare()\r\n",
        "frame.Draw()\r\n",
        "\r\n",
        "c1.Draw()\r\n",
        "print(Gauss.getValV())\r\n",
        "print(Gauss_Norm.getError())\r\n",
        "print(frame.chiSquare())"
      ],
      "execution_count": 66,
      "outputs": [
        {
          "output_type": "stream",
          "text": [
            "0.95294774642\n",
            "134.516392886\n",
            "3.67597461887\n",
            "[#1] INFO:Plotting -- RooAbsPdf::plotOn(Full Model) directly selected PDF components: (Gaussian Signal)\n",
            "[#1] INFO:Plotting -- RooAbsPdf::plotOn(Full Model) indirectly selected PDF components: ()\n",
            "[#1] INFO:Plotting -- RooAbsPdf::plotOn(Full Model) directly selected PDF components: (Exponential Background)\n",
            "[#1] INFO:Plotting -- RooAbsPdf::plotOn(Full Model) indirectly selected PDF components: ()\n"
          ],
          "name": "stdout"
        },
        {
          "output_type": "stream",
          "text": [
            "Warning in <TCanvas::Constructor>: Deleting canvas with same name: c1\n"
          ],
          "name": "stderr"
        },
        {
          "output_type": "display_data",
          "data": {
            "image/png": "[encoded data removed]",
            "text/plain": [
              "<IPython.core.display.Image object>"
            ]
          },
          "metadata": {
            "tags": []
          }
        }
      ]
    },
    {
      "cell_type": "markdown",
      "metadata": {
        "id": "60b4bs1od4M_"
      },
      "source": [
        "Using this structure, you can in theory build whatever models you like!\r\n",
        "\r\n",
        "Some recommendations (but not necessary to do all):-\r\n",
        "\r\n",
        "\r\n",
        "\r\n",
        "*   Gauss+Exponential (as above)\r\n",
        "*   Crystal Ball + Exponential\r\n",
        "*   Gauss+Crystal Ball+Exponential (now you need to weigh the two signal peaks and then the total signal against total background)\r\n",
        "*   Gauss+Chebychev\r\n",
        "*   Two Crystal Balls + Exponential"
      ]
    },
    {
      "cell_type": "code",
      "metadata": {
        "colab": {
          "base_uri": "https://localhost:8080/",
          "height": 1000
        },
        "id": "9_NBDVT1YypP",
        "outputId": "a83ab368-0ee9-482a-8d51-d8f2cb7a8426"
      },
      "source": [
        "#my attempt at trying to get Gauss + Chebychv to work \r\n",
        "\r\n",
        "#import ROOT\r\n",
        "\r\n",
        "\r\n",
        "#mass = ROOT.RooRealVar(\"M_m0\",\"Mass\",5000,5550,\"MeV/C^{2}\")\r\n",
        "\r\n",
        "#passing the rest of the variables into the model\r\n",
        "#For the RooRealVar the last three parameters are given, \"starting value\" and min/max values\r\n",
        "#gaussMean = ROOT.RooRealVar(\"Mean\",\"Mean\",5300,5250,5350)\r\n",
        "#gaussWidth = ROOT.RooRealVar(\"Width\",\"Width\",20,0,40)\r\n",
        "#Now we have enough to make our Model for the signal:\r\n",
        "#Gauss=ROOT.RooGaussian(\"Gaussian Signal\",\"Gauss\",mass,gaussMean,gaussWidth)\r\n",
        "#Gauss_Norm= ROOT.RooRealVar(\"Gauss_Norm\",\"Signal Yield\", tree.GetEntries()/30, 0, tree.GetEntries() * 3)\r\n",
        "\r\n",
        "\r\n",
        "#background (Chebychev)\r\n",
        "\r\n",
        "#x = ROOT.RooRealVar(\"x\",\"x\",-10,10)\r\n",
        "\r\n",
        "#mean = ROOT.RooRealVar(\"mean\",\"mean\",0,-10,10)\r\n",
        "#sigma = ROOT.RooRealVar(\"sigma\",\"sigma\",2,0.,10)\r\n",
        "#sig = ROOT.RooGaussian(\"sig\",\"signal p.d.f.\",x,mean,sigma)\r\n",
        "\r\n",
        "#coef = ROOT.RooRealVar(\"c0\",\"coefficient #0\",1.0,-1.,1)\r\n",
        "\r\n",
        "\r\n",
        "#Define the  model for the background:\r\n",
        "#fsig = ROOT.RooRealVar(\"fsig\",\"signal fraction\",0.5,0.,1.)\r\n",
        "#bkg = ROOT.RooChebychev(\"bkg\",\"background p.d.f.\",x,ROOT.RooArgList(coef))\r\n",
        "\r\n",
        "#Now we need to combine these two functions into a single PDF (probability density function)\r\n",
        "#and we need to add the normalisation factors at the end as scaling factors\r\n",
        "\r\n",
        "#model=ROOT.RooAddPdf(\"Full Model\",\"model\",ROOT.RooArgList(Gauss,bkg),ROOT.RooArgList(Gauss_Norm, fsig) )\r\n",
        "\r\n",
        "\r\n",
        "#Put our data set into a RooDataSet structure\r\n",
        "\r\n",
        "#data_to_fit=ROOT.RooDataSet(\"Data Set\",\"data_to_fit\", CutTree, ROOT.RooArgSet(mass))\r\n",
        "\r\n",
        "#Then we can do the fitting:\r\n",
        "\r\n",
        "#model.fitTo(data_to_fit)\r\n",
        "\r\n",
        "#if everything went well, you will see the outputs of RooFit below\r\n",
        "\r\n",
        "\r\n",
        "#canv=ROOT.TCanvas(\"canv\",\"canv\")\r\n",
        "#frame = mass.frame()\r\n",
        "#data_to_fit.plotOn(frame)\r\n",
        "#model.plotOn(frame, ROOT.RooFit.Components(\"Gaussian Signal\"),ROOT.RooFit.LineColor(8),ROOT.RooFit.LineStyle(2))\r\n",
        "#model.plotOn(frame, ROOT.RooFit.Components(\"background p.d.f\"),ROOT.RooFit.LineColor(46),ROOT.RooFit.LineStyle(2)) \r\n",
        "#model.plotOn(frame)\r\n",
        "\r\n",
        "#frame.chiSquare()\r\n",
        "#frame.Draw()\r\n",
        "\r\n",
        "#canv.Draw()\r\n"
      ],
      "execution_count": 26,
      "outputs": [
        {
          "output_type": "stream",
          "text": [
            "[#1] INFO:Eval -- RooAbsReal::attachToTree(M_m0) TTree Float_t branch M_m0 will be converted to double precision\n",
            "[#1] INFO:Eval -- RooTreeDataStore::loadValues(Data Set) Ignored 49271 out of range events\n",
            "[#1] INFO:Minization -- p.d.f. provides expected number of events, including extended term in likelihood.\n",
            "[#0] ERROR:LinkStateMgmt -- RooAbsArg::redirectServers(Gaussian Signal): ERROR, some proxies could not be adjusted\n",
            "[#1] INFO:Minization -- RooMinimizer::optimizeConst: activating const optimization\n",
            " **********\n",
            " **    1 **SET PRINT           1\n",
            " **********\n",
            " **********\n",
            " **    2 **SET NOGRAD\n",
            " **********\n",
            " PARAMETER DEFINITIONS:\n",
            "    NO.   NAME         VALUE      STEP SIZE      LIMITS\n",
            "     1 Gauss_Norm   3.72033e+04  1.96509e+02    0.00000e+00  1.02606e+07\n",
            " MINUIT WARNING IN PARAM DEF\n",
            " ============== LIMITS ON PARAM1 TOO FAR APART.\n",
            " PARAMETER DEFINITIONS:\n",
            "    NO.   NAME         VALUE      STEP SIZE      LIMITS\n",
            "     2 c0           1.00000e+00  2.00000e-01   -1.00000e+00  1.00000e+00\n",
            " MINUIT WARNING IN PARAM DEF\n",
            " ============== STARTING VALUE IS AT LIMIT.\n",
            " MINUIT WARNING IN PARAMETR\n",
            " ============== VARIABLE2 IS AT ITS UPPER ALLOWED LIMIT.\n",
            " MINUIT WARNING IN PARAMETR\n",
            " ============== VARIABLE2 BROUGHT BACK INSIDE LIMITS.\n",
            "     3 fsig         5.00000e-01  1.00000e-01    0.00000e+00  1.00000e+00\n",
            "     4 x            0.00000e+00  2.00000e+00   -1.00000e+01  1.00000e+01\n",
            " **********\n",
            " **    3 **SET ERR         0.5\n",
            " **********\n",
            " **********\n",
            " **    4 **SET PRINT           1\n",
            " **********\n",
            " **********\n",
            " **    5 **SET STR           1\n",
            " **********\n",
            " NOW USING STRATEGY  1: TRY TO BALANCE SPEED AGAINST RELIABILITY\n",
            " **********\n",
            " **    6 **MIGRAD        2000           1\n",
            " **********\n",
            " FIRST CALL TO USER FUNCTION AT NEW START POINT, WITH IFLAG=4.\n",
            " MINUIT WARNING IN MIGrad    \n",
            " ============== VARIABLE2 IS AT ITS UPPER ALLOWED LIMIT.\n",
            " START MIGRAD MINIMIZATION.  STRATEGY  1.  CONVERGENCE WHEN EDM .LT. 1.00e-03\n",
            " FCN=71324.6 FROM MIGRAD    STATUS=INITIATE      149 CALLS         150 TOTAL\n",
            "                     EDM= unknown      STRATEGY= 1      NO ERROR MATRIX       \n",
            "  EXT PARAMETER               CURRENT GUESS       STEP         FIRST   \n",
            "  NO.   NAME      VALUE            ERROR          SIZE      DERIVATIVE \n",
            "   1  Gauss_Norm   3.72033e+04   1.96509e+02   0.00000e+00   6.16720e+05\n",
            "   2  c0           9.99998e-01   2.00000e-01   0.00000e+00   0.00000e+00\n",
            "   3  fsig         5.00000e-01   1.00000e-01   0.00000e+00  -4.92255e+04\n",
            "   4  x            0.00000e+00   2.00000e+00   0.00000e+00  -4.92259e+04\n",
            "                               ERR DEF= 0.5\n",
            " MIGRAD MINIMIZATION HAS CONVERGED.\n",
            " MIGRAD WILL VERIFY CONVERGENCE AND ERROR MATRIX.\n",
            " COVARIANCE MATRIX CALCULATED SUCCESSFULLY\n",
            " FCN=-34119.9 FROM MIGRAD    STATUS=CONVERGED     228 CALLS         229 TOTAL\n",
            "                     EDM=8.21523e-08    STRATEGY= 1      ERROR MATRIX ACCURATE \n",
            "  EXT PARAMETER                                   STEP         FIRST   \n",
            "  NO.   NAME      VALUE            ERROR          SIZE      DERIVATIVE \n",
            "   1  Gauss_Norm   3.98704e-09   5.00000e-01   5.63146e-05** at limit **\n",
            "   2  c0           1.00000e+00   2.03144e-05   8.13036e-04** at limit **\n",
            "   3  fsig         1.00000e+00   1.01574e-05   8.13044e-04** at limit **\n",
            "   4  x            1.00000e+01   2.03144e-04   8.13036e-04** at limit **\n",
            "                               ERR DEF= 0.5\n",
            " EXTERNAL ERROR MATRIX.    NDIM=  25    NPAR=  4    ERR DEF=0.5\n",
            "  8.342e-09 -1.372e-30 -9.066e-32 -1.965e-21 \n",
            " -1.372e-30  1.649e-19  7.458e-35  1.617e-24 \n",
            " -9.066e-32  7.458e-35  2.463e-17  1.068e-25 \n",
            " -1.965e-21  1.617e-24  1.068e-25  2.315e-15 \n",
            " PARAMETER  CORRELATION COEFFICIENTS  \n",
            "       NO.  GLOBAL      1      2      3      4\n",
            "        1  0.00000   1.000 -0.000 -0.000 -0.000\n",
            "        2  0.00000  -0.000  1.000  0.000  0.000\n",
            "        3  0.00000  -0.000  0.000  1.000  0.000\n",
            "        4  0.00000  -0.000  0.000  0.000  1.000\n",
            " **********\n",
            " **    7 **SET ERR         0.5\n",
            " **********\n",
            " **********\n",
            " **    8 **SET PRINT           1\n",
            " **********\n",
            " **********\n",
            " **    9 **HESSE        2000\n",
            " **********\n",
            " COVARIANCE MATRIX CALCULATED SUCCESSFULLY\n",
            " FCN=-34119.9 FROM HESSE     STATUS=OK             23 CALLS         252 TOTAL\n",
            "                     EDM=8.21501e-08    STRATEGY= 1      ERROR MATRIX ACCURATE \n",
            "  EXT PARAMETER                                INTERNAL      INTERNAL  \n",
            "  NO.   NAME      VALUE            ERROR       STEP SIZE       VALUE   \n",
            "   1  Gauss_Norm   3.98704e-09   5.00000e-01   1.12629e-05  -1.57080e+00\n",
            "                                 WARNING -   - ABOVE PARAMETER IS AT LIMIT.\n",
            "   2  c0           1.00000e+00   2.03144e-05   1.62607e-04   1.57080e+00\n",
            "                                 WARNING -   - ABOVE PARAMETER IS AT LIMIT.\n",
            "   3  fsig         1.00000e+00   1.01574e-05   1.62609e-04   1.57079e+00\n",
            "                                 WARNING -   - ABOVE PARAMETER IS AT LIMIT.\n",
            "   4  x            1.00000e+01   2.03144e-04   1.62607e-04   1.57080e+00\n",
            "                                 WARNING -   - ABOVE PARAMETER IS AT LIMIT.\n",
            "                               ERR DEF= 0.5\n",
            " EXTERNAL ERROR MATRIX.    NDIM=  25    NPAR=  4    ERR DEF=0.5\n",
            "  8.342e-09  4.147e-22  1.267e-36 -4.913e-20 \n",
            "  4.147e-22  1.649e-19 -2.254e-26  1.147e-39 \n",
            "  1.267e-36 -2.254e-26  2.463e-17 -2.670e-24 \n",
            " -4.913e-20  1.147e-39 -2.670e-24  2.315e-15 \n",
            " PARAMETER  CORRELATION COEFFICIENTS  \n",
            "       NO.  GLOBAL      1      2      3      4\n",
            "        1  0.00000   1.000  0.000  0.000 -0.000\n",
            "        2  0.00000   0.000  1.000 -0.000  0.000\n",
            "        3  0.00000   0.000 -0.000  1.000 -0.000\n",
            "        4  0.00000  -0.000  0.000 -0.000  1.000\n",
            "[#1] INFO:Minization -- RooMinimizer::optimizeConst: deactivating const optimization\n",
            "[#0] ERROR:Plotting -- RooAddPdf::Full Model:plotOn: WARNING: variable is not an explicit dependent: M_m0\n",
            "[#1] INFO:Plotting -- RooAbsPdf::plotOn(Full Model) directly selected PDF components: (Gaussian Signal)\n",
            "[#1] INFO:Plotting -- RooAbsPdf::plotOn(Full Model) indirectly selected PDF components: ()\n",
            "[#0] ERROR:Plotting -- RooAddPdf::Full Model:plotOn: WARNING: variable is not an explicit dependent: M_m0\n",
            "[#0] ERROR:Plotting -- RooAddPdf::Full Model:createPlotProjection: \"M_m0\" is not a dependent and will be ignored.\n",
            "[#0] ERROR:LinkStateMgmt -- RooAbsArg::redirectServers(Gaussian Signal): ERROR, some proxies could not be adjusted\n",
            "[#0] ERROR:Plotting -- RooAddPdf::Full Model:plotOn: WARNING: variable is not an explicit dependent: M_m0\n",
            "[#0] ERROR:Plotting -- RooAbsPdf::plotOn(Full Model) ERROR: component selection expression 'background p.d.f' does not select any components of p.d.f.\n",
            "[#0] ERROR:Plotting -- RooAddPdf::Full Model:plotOn: WARNING: variable is not an explicit dependent: M_m0\n",
            "[#0] ERROR:Plotting -- RooAddPdf::Full Model:plotOn: WARNING: variable is not an explicit dependent: M_m0\n",
            "[#0] ERROR:Plotting -- RooAddPdf::Full Model:createPlotProjection: \"M_m0\" is not a dependent and will be ignored.\n",
            "[#0] ERROR:LinkStateMgmt -- RooAbsArg::redirectServers(Gaussian Signal): ERROR, some proxies could not be adjusted\n"
          ],
          "name": "stdout"
        },
        {
          "output_type": "stream",
          "text": [
            "Warning in <TCanvas::Constructor>: Deleting canvas with same name: canv\n"
          ],
          "name": "stderr"
        },
        {
          "output_type": "display_data",
          "data": {
            "image/png": "[encoded data removed]",
            "text/plain": [
              "<IPython.core.display.Image object>"
            ]
          },
          "metadata": {
            "tags": []
          }
        }
      ]
    },
    {
      "cell_type": "markdown",
      "metadata": {
        "id": "vHivSaH1dwy7"
      },
      "source": [
        "So how good was the fit, and how many events do you have?\r\n",
        "\r\n",
        "We can use the .getValV() function on our signal and background *normalisation* components, e.g. Gauss_Norm=Gauss.getValV()\r\n",
        "\r\n",
        "To find the error (on this number) we can use .getError()\r\n",
        "\r\n",
        "Neither of these measures would tell us if this was a good fit or not. Normally we use a χ2 test to do so - this is built into the image we made (so we can do frame.chiSquare() to get this data)\r\n",
        "\r\n",
        "For each model you made, print the signal and background yields (with errors) and report the χ2"
      ]
    },
    {
      "cell_type": "code",
      "metadata": {
        "colab": {
          "base_uri": "https://localhost:8080/"
        },
        "id": "XphJp9iqO5dn",
        "outputId": "347f6b81-72bf-4574-d734-da17b8021f4e"
      },
      "source": [
        "print(Gauss_Norm.getValV())\r\n",
        "print(Gauss_Norm.getError())\r\n",
        "print(frame.chiSquare())"
      ],
      "execution_count": 81,
      "outputs": [
        {
          "output_type": "stream",
          "text": [
            "3123.16980044\n",
            "92.4366131447\n",
            "3.67597461887\n"
          ],
          "name": "stdout"
        }
      ]
    },
    {
      "cell_type": "markdown",
      "metadata": {
        "id": "ob2HARgWoTGe"
      },
      "source": [
        "#Counting\r\n",
        "\r\n",
        "So we have now loaded our data; we have reconstructed information about the mother B meson and we have cut away any data which looks like it might not be what we are looking for. We have then plotted histograms of the mass of the B meson and used this to fit a model, a function to describe the events there. We now have to identify which of our events belong to the B<sup>+</sup> and how many of them belong to B<sup>-</sup>.\r\n",
        "\r\n",
        "To do this, should split out data into two groups (and throw away data which doesn't comply with either decay)\r\n",
        "\r\n",
        "We will be looking for the events which are\r\n",
        "\r\n",
        "\r\n",
        "B<sup>+</sup>->K<sup>+</sup> + K<sup>+</sup>  + K<sup>-</sup>\r\n",
        "\r\n",
        "or\r\n",
        "\r\n",
        "B<sup>-</sup>->K<sup>-</sup> + K<sup>-</sup>  + K<sup>+</sup>\r\n",
        "\r\n",
        "We can look for the number of positive and negative charges in H1, H2 and H3 (using the variable ```H1_Charge``` etc.). If we have 0 or 3 positive charges, we should throw the event away and if we have 1 it should be assigned be a B<sup>-</sup>, with 2 it should be a B<sup>+</sup>"
      ]
    },
    {
      "cell_type": "code",
      "metadata": {
        "colab": {
          "base_uri": "https://localhost:8080/"
        },
        "id": "4Y_UIDgjWsGN",
        "outputId": "f9f27def-72bf-42e6-9e03-f27fcb638471"
      },
      "source": [
        "#Here do your calculation of the final result\r\n",
        "selection=(\"H1_ProbK>0.9\")\r\n",
        "CutTree=tree.CopyTree(selection)\r\n",
        "#now selecting even more specific regions\r\n",
        "c=ROOT.TCanvas(\"c\",\"c\")\r\n",
        "selectionP=(\"H1_Charge + H2_Charge + H3_Charge == 1\") # all charges together should be +1\r\n",
        "PositiveTree=CutTree.CopyTree(selectionP)\r\n",
        "selectionM=(\"H1_Charge + H2_Charge + H3_Charge == -1\") # all charges together should be -1\r\n",
        "NegativeTree=CutTree.CopyTree(selectionM)\r\n"
      ],
      "execution_count": 82,
      "outputs": [
        {
          "output_type": "stream",
          "text": [
            "Warning in <TCanvas::Constructor>: Deleting canvas with same name: c\n"
          ],
          "name": "stderr"
        }
      ]
    },
    {
      "cell_type": "markdown",
      "metadata": {
        "id": "r8VB5uN1obc4"
      },
      "source": [
        "Once we have defined if it's a B<sup>+</sup> or a B <sup>-</sup>, we should go ahead and ensure the pre-selection is applied and then plot our B mass, and fit the model to find the yield.\r\n",
        "\r\n",
        "We can then calculate the assymetry from this equation:\r\n",
        "\r\n",
        "$A=\\frac{(N^{B-}-N^{B+})}{(N^{B-}+N^{B+})}$\r\n",
        "\r\n",
        "Where N<sup>B+/- </sup> is the number of events found from the fitted yield of the signal from each data set.\r\n",
        "\r\n",
        "The uncertainty on this result is given by:\r\n",
        "\r\n",
        "$\\sigma_A=\\sqrt\\frac{1-A^2}{N^{B-}+N^{B+}}$\r\n",
        "\r\n",
        "Calculate these two values for your data and print them below:"
      ]
    },
    {
      "cell_type": "markdown",
      "metadata": {
        "id": "OZuQ56xSY8ea"
      },
      "source": [
        "For Positive"
      ]
    },
    {
      "cell_type": "code",
      "metadata": {
        "id": "UiPNe2iuobSK",
        "colab": {
          "base_uri": "https://localhost:8080/"
        },
        "outputId": "53fd1c7c-de8c-40b0-921b-05d6ed41daf1"
      },
      "source": [
        "#same as previously done, so no comments\r\n",
        "mass = ROOT.RooRealVar(\"M_m0\",\"Mass\",5000,5550,\"MeV/C^{2}\")\r\n",
        "\r\n",
        "gaussMean = ROOT.RooRealVar(\"Mean\",\"Mean\",5300,5250,5350)\r\n",
        "gaussWidth = ROOT.RooRealVar(\"Width\",\"Width\",20,0,40)\r\n",
        "\r\n",
        "\r\n",
        "Gauss=ROOT.RooGaussian(\"Gaussian Signal\",\"Gauss\",mass,gaussMean,gaussWidth)\r\n",
        "Gauss_Norm_P= ROOT.RooRealVar(\"Gauss_Norm_P\",\"Signal Yield\", tree.GetEntries()/30, 0, tree.GetEntries() * 3)\r\n",
        "\r\n",
        "exponent=ROOT.RooRealVar(\"exponent\", \"C\", -0.02, -2, +2)\r\n",
        "exp_Norm= ROOT.RooRealVar(\"exp_Norm\",\"Background Yield\", tree.GetEntries()/30, 0, tree.GetEntries() * 2)\r\n",
        "\r\n",
        "Bkgnd=ROOT.RooExponential(\"Exponential Background\",\"Bkgnd\",mass,exponent)\r\n",
        "\r\n",
        "\r\n",
        "\r\n",
        "model=ROOT.RooAddPdf(\"Full Model\",\"model\",ROOT.RooArgList(Gauss,Bkgnd),ROOT.RooArgList(Gauss_Norm_P, exp_Norm) )\r\n",
        "\r\n",
        "data_to_fit=ROOT.RooDataSet(\"Data Set\",\"data_to_fit\", PositiveTree, ROOT.RooArgSet(mass))\r\n",
        "\r\n",
        "#Then we can do the fitting:\r\n",
        "\r\n",
        "model.fitTo(data_to_fit)"
      ],
      "execution_count": 93,
      "outputs": [
        {
          "output_type": "execute_result",
          "data": {
            "text/plain": [
              "<ROOT.RooFitResult object at 0x(nil)>"
            ]
          },
          "metadata": {
            "tags": []
          },
          "execution_count": 93
        },
        {
          "output_type": "stream",
          "text": [
            "[#1] INFO:Eval -- RooAbsReal::attachToTree(M_m0) TTree Float_t branch M_m0 will be converted to double precision\n",
            "[#1] INFO:Eval -- RooTreeDataStore::loadValues(Data Set) Ignored 25358 out of range events\n",
            "[#1] INFO:Minization -- p.d.f. provides expected number of events, including extended term in likelihood.\n",
            "[#1] INFO:Minization -- RooMinimizer::optimizeConst: activating const optimization\n",
            "[#1] INFO:Minization --  The following expressions will be evaluated in cache-and-track mode: (Gaussian Signal,Exponential Background)\n",
            " **********\n",
            " **  109 **SET PRINT           1\n",
            " **********\n",
            " **********\n",
            " **  110 **SET NOGRAD\n",
            " **********\n",
            " PARAMETER DEFINITIONS:\n",
            "    NO.   NAME         VALUE      STEP SIZE      LIMITS\n",
            "     1 Gauss_Norm_P   1.14006e+05  5.70030e+04    0.00000e+00  1.02606e+07\n",
            " MINUIT WARNING IN PARAM DEF\n",
            " ============== LIMITS ON PARAM1 TOO FAR APART.\n",
            " PARAMETER DEFINITIONS:\n",
            "    NO.   NAME         VALUE      STEP SIZE      LIMITS\n",
            "     2 Mean         5.30000e+03  1.00000e+01    5.25000e+03  5.35000e+03\n",
            "     3 Width        2.00000e+01  4.00000e+00    0.00000e+00  4.00000e+01\n",
            "     4 exp_Norm     1.14006e+05  5.70030e+04    0.00000e+00  6.84039e+06\n",
            "     5 exponent    -2.00000e-02  4.00000e-01   -2.00000e+00  2.00000e+00\n",
            " **********\n",
            " **  111 **SET ERR         0.5\n",
            " **********\n",
            " **********\n",
            " **  112 **SET PRINT           1\n",
            " **********\n",
            " **********\n",
            " **  113 **SET STR           1\n",
            " **********\n",
            " NOW USING STRATEGY  1: TRY TO BALANCE SPEED AGAINST RELIABILITY\n",
            " **********\n",
            " **  114 **MIGRAD        2500           1\n",
            " **********\n",
            " FIRST CALL TO USER FUNCTION AT NEW START POINT, WITH IFLAG=4.\n",
            " START MIGRAD MINIMIZATION.  STRATEGY  1.  CONVERGENCE WHEN EDM .LT. 1.00e-03\n",
            " FCN=116904 FROM MIGRAD    STATUS=INITIATE       22 CALLS          23 TOTAL\n",
            "                     EDM= unknown      STRATEGY= 1      NO ERROR MATRIX       \n",
            "  EXT PARAMETER               CURRENT GUESS       STEP         FIRST   \n",
            "  NO.   NAME      VALUE            ERROR          SIZE      DERIVATIVE \n",
            "   1  Gauss_Norm_P   1.14006e+05   5.70030e+04   5.48559e-02   9.94615e+05\n",
            "   2  Mean         5.30000e+03   1.00000e+01   2.01358e-01   5.00540e+03\n",
            "   3  Width        2.00000e+01   4.00000e+00   2.01358e-01  -1.84866e+04\n",
            "   4  exp_Norm     1.14006e+05   5.70030e+04   6.73657e-02   7.44412e+05\n",
            "   5  exponent    -2.00000e-02   4.00000e-01   2.01369e-01  -5.85461e+06\n",
            "                               ERR DEF= 0.5\n",
            "[#0] WARNING:Minization -- RooMinimizerFcn: Minimized function has error status.\n",
            "Returning maximum FCN so far (395602) to force MIGRAD to back out of this region. Error log follows\n",
            "Parameter values: Gauss_Norm_P=1662.38, Mean=5286.7, Width=39.8082, exp_Norm=6649.36, exponent=0.278609\n",
            "RooRealIntegral::Exponential Background_Int[M_m0][ Int Exponential Backgroundd[Ana](M_m0) ]\n",
            "     function value is NAN @ !sumList=(), !intList=(), !anaList=(M_m0 = 5180.1), !jacList=(), !facList=(), !func=Exponential Background=inf/1.52988e-44, !sumCat=()\n",
            "RooAddPdf::Full Model[ Gauss_Norm_P * Gaussian Signal + exp_Norm * Exponential Background ]\n",
            "     p.d.f value is Not-a-Number (-nan), forcing value to zero @ !refCoefNorm=(), !pdfs=(Gaussian Signal = 0.449855/99.7843,Exponential Background = inf/-nan), !coefficients=(Gauss_Norm_P = 1662.38,exp_Norm = 6649.36)\n",
            "     getLogVal() top-level p.d.f evaluates to zero @ !refCoefNorm=(), !pdfs=(Gaussian Signal = 0.449855/99.7843,Exponential Background = inf/-nan), !coefficients=(Gauss_Norm_P = 1662.38,exp_Norm = 6649.36)\n",
            "     p.d.f value is Not-a-Number (-nan), forcing value to zero @ !refCoefNorm=(), !pdfs=(Gaussian Signal = 0.000511846/99.7843,Exponential Background = inf/-nan), !coefficients=(Gauss_Norm_P = 1662.38,exp_Norm = 6649.36)\n",
            "     getLogVal() top-level p.d.f evaluates to zero @ !refCoefNorm=(), !pdfs=(Gaussian Signal = 0.000511846/99.7843,Exponential Background = inf/-nan), !coefficients=(Gauss_Norm_P = 1662.38,exp_Norm = 6649.36)\n",
            "     p.d.f value is Not-a-Number (-nan), forcing value to zero @ !refCoefNorm=(), !pdfs=(Gaussian Signal = 3.64546e-05/99.7843,Exponential Background = inf/-nan), !coefficients=(Gauss_Norm_P = 1662.38,exp_Norm = 6649.36)\n",
            "     getLogVal() top-level p.d.f evaluates to zero @ !refCoefNorm=(), !pdfs=(Gaussian Signal = 3.64546e-05/99.7843,Exponential Background = inf/-nan), !coefficients=(Gauss_Norm_P = 1662.38,exp_Norm = 6649.36)\n",
            "     p.d.f value is Not-a-Number (-nan), forcing value to zero @ !refCoefNorm=(), !pdfs=(Gaussian Signal = 0.000285148/99.7843,Exponential Background = inf/-nan), !coefficients=(Gauss_Norm_P = 1662.38,exp_Norm = 6649.36)\n",
            "     getLogVal() top-level p.d.f evaluates to zero @ !refCoefNorm=(), !pdfs=(Gaussian Signal = 0.000285148/99.7843,Exponential Background = inf/-nan), !coefficients=(Gauss_Norm_P = 1662.38,exp_Norm = 6649.36)\n",
            "     p.d.f value is Not-a-Number (-nan), forcing value to zero @ !refCoefNorm=(), !pdfs=(Gaussian Signal = 2.21897e-09/99.7843,Exponential Background = inf/-nan), !coefficients=(Gauss_Norm_P = 1662.38,exp_Norm = 6649.36)\n",
            "     getLogVal() top-level p.d.f evaluates to zero @ !refCoefNorm=(), !pdfs=(Gaussian Signal = 2.21897e-09/99.7843,Exponential Background = inf/-nan), !coefficients=(Gauss_Norm_P = 1662.38,exp_Norm = 6649.36)\n",
            "     p.d.f value is Not-a-Number (-nan), forcing value to zero @ !refCoefNorm=(), !pdfs=(Gaussian Signal = 0.878286/99.7843,Exponential Background = inf/-nan), !coefficients=(Gauss_Norm_P = 1662.38,exp_Norm = 6649.36)\n",
            "     getLogVal() top-level p.d.f evaluates to zero @ !refCoefNorm=(), !pdfs=(Gaussian Signal = 0.878286/99.7843,Exponential Background = inf/-nan), !coefficients=(Gauss_Norm_P = 1662.38,exp_Norm = 6649.36)\n",
            "    ... (remaining 2038 messages suppressed)\n",
            "RooNLLVar::nll_Full Model_Data Set[ paramSet=(Gauss_Norm_P,Mean,Width,exp_Norm,exponent) ]\n",
            "     function value is NAN @ paramSet=(Gauss_Norm_P = 1662.38,Mean = 5286.7,Width = 39.8082,exp_Norm = 6649.36,exponent = 0.278609)\n",
            "\n",
            " MIGRAD MINIMIZATION HAS CONVERGED.\n",
            " MIGRAD WILL VERIFY CONVERGENCE AND ERROR MATRIX.\n",
            " COVARIANCE MATRIX CALCULATED SUCCESSFULLY\n",
            " FCN=-74849 FROM MIGRAD    STATUS=CONVERGED     230 CALLS         231 TOTAL\n",
            "                     EDM=1.63958e-05    STRATEGY= 1      ERROR MATRIX ACCURATE \n",
            "  EXT PARAMETER                                   STEP         FIRST   \n",
            "  NO.   NAME      VALUE            ERROR          SIZE      DERIVATIVE \n",
            "   1  Gauss_Norm_P   3.72154e+03   9.74825e+01   8.00391e-05  -8.37099e+00\n",
            "   2  Mean         5.28206e+03   5.77135e-01   2.28475e-03   1.22656e-01\n",
            "   3  Width        2.02476e+01   5.76095e-01   4.70386e-03   3.32575e-02\n",
            "   4  exp_Norm     2.19472e+04   1.66484e+02   7.53254e-05  -1.65554e+00\n",
            "   5  exponent    -1.40494e-03   4.35964e-05   4.09080e-06  -8.31929e+00\n",
            "                               ERR DEF= 0.5\n",
            " EXTERNAL ERROR MATRIX.    NDIM=  25    NPAR=  5    ERR DEF=0.5\n",
            "  9.503e+03 -6.666e+00  2.630e+01 -5.773e+03 -4.056e-04 \n",
            " -6.666e+00  3.331e-01 -6.665e-02  6.653e+00 -1.025e-06 \n",
            "  2.630e+01 -6.665e-02  3.320e-01 -2.625e+01 -1.590e-06 \n",
            " -5.773e+03  6.653e+00 -2.625e+01  2.772e+04  4.053e-04 \n",
            " -4.056e-04 -1.025e-06 -1.590e-06  4.053e-04  1.901e-09 \n",
            " PARAMETER  CORRELATION COEFFICIENTS  \n",
            "       NO.  GLOBAL      1      2      3      4      5\n",
            "        1  0.52827   1.000 -0.118  0.468 -0.356 -0.095\n",
            "        2  0.21008  -0.118  1.000 -0.200  0.069 -0.041\n",
            "        3  0.50333   0.468 -0.200  1.000 -0.274 -0.063\n",
            "        4  0.37641  -0.356  0.069 -0.274  1.000  0.056\n",
            "        5  0.11496  -0.095 -0.041 -0.063  0.056  1.000\n",
            " **********\n",
            " **  115 **SET ERR         0.5\n",
            " **********\n",
            " **********\n",
            " **  116 **SET PRINT           1\n",
            " **********\n",
            " **********\n",
            " **  117 **HESSE        2500\n",
            " **********\n",
            " COVARIANCE MATRIX CALCULATED SUCCESSFULLY\n",
            " FCN=-74849 FROM HESSE     STATUS=OK             31 CALLS         262 TOTAL\n",
            "                     EDM=1.64295e-05    STRATEGY= 1      ERROR MATRIX ACCURATE \n",
            "  EXT PARAMETER                                INTERNAL      INTERNAL  \n",
            "  NO.   NAME      VALUE            ERROR       STEP SIZE       VALUE   \n",
            "   1  Gauss_Norm_P   3.72154e+03   9.76237e+01   1.60078e-05  -1.53270e+00\n",
            "   2  Mean         5.28206e+03   5.77628e-01   9.13898e-05  -3.66922e-01\n",
            "   3  Width        2.02476e+01   5.77365e-01   1.88155e-04   1.23810e-02\n",
            "   4  exp_Norm     2.19472e+04   1.66595e+02   1.50651e-05  -1.45745e+00\n",
            "   5  exponent    -1.40494e-03   4.35993e-05   1.63632e-07  -7.02468e-04\n",
            "                               ERR DEF= 0.5\n",
            " EXTERNAL ERROR MATRIX.    NDIM=  25    NPAR=  5    ERR DEF=0.5\n",
            "  9.530e+03 -6.753e+00  2.653e+01 -5.807e+03 -4.087e-04 \n",
            " -6.753e+00  3.337e-01 -6.826e-02  6.750e+00 -1.019e-06 \n",
            "  2.653e+01 -6.826e-02  3.334e-01 -2.652e+01 -1.607e-06 \n",
            " -5.807e+03  6.750e+00 -2.652e+01  2.775e+04  4.087e-04 \n",
            " -4.087e-04 -1.019e-06 -1.607e-06  4.087e-04  1.901e-09 \n",
            " PARAMETER  CORRELATION COEFFICIENTS  \n",
            "       NO.  GLOBAL      1      2      3      4      5\n",
            "        1  0.53024   1.000 -0.120  0.471 -0.357 -0.096\n",
            "        2  0.21394  -0.120  1.000 -0.205  0.070 -0.040\n",
            "        3  0.50657   0.471 -0.205  1.000 -0.276 -0.064\n",
            "        4  0.37793  -0.357  0.070 -0.276  1.000  0.056\n",
            "        5  0.11552  -0.096 -0.040 -0.064  0.056  1.000\n",
            "[#1] INFO:Minization -- RooMinimizer::optimizeConst: deactivating const optimization\n"
          ],
          "name": "stdout"
        }
      ]
    },
    {
      "cell_type": "code",
      "metadata": {
        "colab": {
          "base_uri": "https://localhost:8080/",
          "height": 574
        },
        "id": "2i4lTh4qYc7q",
        "outputId": "1d71b4b3-c20b-4c59-edad-f2a33c2f539e"
      },
      "source": [
        "c2=ROOT.TCanvas(\"c2\",\"c2\")\r\n",
        "frame1 = mass.frame()\r\n",
        "data_to_fit.plotOn(frame1)\r\n",
        "model.plotOn(frame1, ROOT.RooFit.Components(\"Gaussian Signal\"),ROOT.RooFit.LineColor(8),ROOT.RooFit.LineStyle(2))\r\n",
        "model.plotOn(frame1, ROOT.RooFit.Components(\"Exponential Background\"),ROOT.RooFit.LineColor(46),ROOT.RooFit.LineStyle(2)) \r\n",
        "model.plotOn(frame1)\r\n",
        "\r\n",
        "frame1.chiSquare()\r\n",
        "frame1.Draw()\r\n",
        "\r\n",
        "c2.Draw()\r\n"
      ],
      "execution_count": 94,
      "outputs": [
        {
          "output_type": "stream",
          "text": [
            "[#1] INFO:Plotting -- RooAbsPdf::plotOn(Full Model) directly selected PDF components: (Gaussian Signal)\n",
            "[#1] INFO:Plotting -- RooAbsPdf::plotOn(Full Model) indirectly selected PDF components: ()\n",
            "[#1] INFO:Plotting -- RooAbsPdf::plotOn(Full Model) directly selected PDF components: (Exponential Background)\n",
            "[#1] INFO:Plotting -- RooAbsPdf::plotOn(Full Model) indirectly selected PDF components: ()\n"
          ],
          "name": "stdout"
        },
        {
          "output_type": "stream",
          "text": [
            "Warning in <TCanvas::Constructor>: Deleting canvas with same name: c2\n"
          ],
          "name": "stderr"
        },
        {
          "output_type": "display_data",
          "data": {
            "image/png": "[encoded data removed]",
            "text/plain": [
              "<IPython.core.display.Image object>"
            ]
          },
          "metadata": {
            "tags": []
          }
        }
      ]
    },
    {
      "cell_type": "code",
      "metadata": {
        "colab": {
          "base_uri": "https://localhost:8080/"
        },
        "id": "irobnO53ZGvT",
        "outputId": "39e24ca0-0515-49f3-9305-105913612b0c"
      },
      "source": [
        "print(Gauss_Norm_P.getValV())\r\n",
        "print(Gauss_Norm_P.getError())\r\n",
        "print(frame1.chiSquare())"
      ],
      "execution_count": 95,
      "outputs": [
        {
          "output_type": "stream",
          "text": [
            "3721.53732411\n",
            "97.6236502256\n",
            "1.93097229309\n"
          ],
          "name": "stdout"
        }
      ]
    },
    {
      "cell_type": "markdown",
      "metadata": {
        "id": "YfGGcIHAZGXR"
      },
      "source": [
        "**For Negative**"
      ]
    },
    {
      "cell_type": "code",
      "metadata": {
        "colab": {
          "base_uri": "https://localhost:8080/"
        },
        "id": "EjY0eDXHZTzl",
        "outputId": "4bdb275c-87c6-4ea5-80f9-22990b30f1f3"
      },
      "source": [
        "mass = ROOT.RooRealVar(\"M_m0\",\"Mass\",5000,5550,\"MeV/C^{2}\")\r\n",
        "\r\n",
        "gaussMean = ROOT.RooRealVar(\"Mean\",\"Mean\",5300,5250,5350)\r\n",
        "gaussWidth = ROOT.RooRealVar(\"Width\",\"Width\",20,0,40)\r\n",
        "\r\n",
        "\r\n",
        "Gauss=ROOT.RooGaussian(\"Gaussian Signal\",\"Gauss\",mass,gaussMean,gaussWidth)\r\n",
        "Gauss_Norm_N= ROOT.RooRealVar(\"Gauss_Norm_N\",\"Signal Yield\", tree.GetEntries()/30, 0, tree.GetEntries() * 3)\r\n",
        "\r\n",
        "exponent=ROOT.RooRealVar(\"exponent\", \"C\", -0.02, -2, +2)\r\n",
        "exp_Norm= ROOT.RooRealVar(\"exp_Norm\",\"Background Yield\", tree.GetEntries()/30, 0, tree.GetEntries() * 2)\r\n",
        "\r\n",
        "Bkgnd=ROOT.RooExponential(\"Exponential Background\",\"Bkgnd\",mass,exponent)\r\n",
        "\r\n",
        "\r\n",
        "\r\n",
        "model=ROOT.RooAddPdf(\"Full Model\",\"model\",ROOT.RooArgList(Gauss,Bkgnd),ROOT.RooArgList(Gauss_Norm_N, exp_Norm) )\r\n",
        "\r\n",
        "data_to_fit=ROOT.RooDataSet(\"Data Set\",\"data_to_fit\", NegativeTree, ROOT.RooArgSet(mass))\r\n",
        "\r\n",
        "#Then we can do the fitting:\r\n",
        "\r\n",
        "model.fitTo(data_to_fit)"
      ],
      "execution_count": 110,
      "outputs": [
        {
          "output_type": "execute_result",
          "data": {
            "text/plain": [
              "<ROOT.RooFitResult object at 0x(nil)>"
            ]
          },
          "metadata": {
            "tags": []
          },
          "execution_count": 110
        },
        {
          "output_type": "stream",
          "text": [
            "[#1] INFO:Eval -- RooAbsReal::attachToTree(M_m0) TTree Float_t branch M_m0 will be converted to double precision\n",
            "[#1] INFO:Eval -- RooTreeDataStore::loadValues(Data Set) Ignored 23913 out of range events\n",
            "[#1] INFO:Minization -- p.d.f. provides expected number of events, including extended term in likelihood.\n",
            "[#1] INFO:Minization -- RooMinimizer::optimizeConst: activating const optimization\n",
            "[#1] INFO:Minization --  The following expressions will be evaluated in cache-and-track mode: (Gaussian Signal,Exponential Background)\n",
            " **********\n",
            " **  127 **SET PRINT           1\n",
            " **********\n",
            " **********\n",
            " **  128 **SET NOGRAD\n",
            " **********\n",
            " PARAMETER DEFINITIONS:\n",
            "    NO.   NAME         VALUE      STEP SIZE      LIMITS\n",
            "     1 Gauss_Norm_N   1.14006e+05  5.70030e+04    0.00000e+00  1.02606e+07\n",
            " MINUIT WARNING IN PARAM DEF\n",
            " ============== LIMITS ON PARAM1 TOO FAR APART.\n",
            " PARAMETER DEFINITIONS:\n",
            "    NO.   NAME         VALUE      STEP SIZE      LIMITS\n",
            "     2 Mean         5.30000e+03  1.00000e+01    5.25000e+03  5.35000e+03\n",
            "     3 Width        2.00000e+01  4.00000e+00    0.00000e+00  4.00000e+01\n",
            "     4 exp_Norm     1.14006e+05  5.70030e+04    0.00000e+00  6.84039e+06\n",
            "     5 exponent    -2.00000e-02  4.00000e-01   -2.00000e+00  2.00000e+00\n",
            " **********\n",
            " **  129 **SET ERR         0.5\n",
            " **********\n",
            " **********\n",
            " **  130 **SET PRINT           1\n",
            " **********\n",
            " **********\n",
            " **  131 **SET STR           1\n",
            " **********\n",
            " NOW USING STRATEGY  1: TRY TO BALANCE SPEED AGAINST RELIABILITY\n",
            " **********\n",
            " **  132 **MIGRAD        2500           1\n",
            " **********\n",
            " FIRST CALL TO USER FUNCTION AT NEW START POINT, WITH IFLAG=4.\n",
            " START MIGRAD MINIMIZATION.  STRATEGY  1.  CONVERGENCE WHEN EDM .LT. 1.00e-03\n",
            " FCN=125738 FROM MIGRAD    STATUS=INITIATE       22 CALLS          23 TOTAL\n",
            "                     EDM= unknown      STRATEGY= 1      NO ERROR MATRIX       \n",
            "  EXT PARAMETER               CURRENT GUESS       STEP         FIRST   \n",
            "  NO.   NAME      VALUE            ERROR          SIZE      DERIVATIVE \n",
            "   1  Gauss_Norm_N   1.14006e+05   5.70030e+04   5.48559e-02   1.00333e+06\n",
            "   2  Mean         5.30000e+03   1.00000e+01   2.01358e-01   4.29899e+03\n",
            "   3  Width        2.00000e+01   4.00000e+00   2.01358e-01  -1.75175e+04\n",
            "   4  exp_Norm     1.14006e+05   5.70030e+04   6.73657e-02   7.53540e+05\n",
            "   5  exponent    -2.00000e-02   4.00000e-01   2.01369e-01  -5.30469e+06\n",
            "                               ERR DEF= 0.5\n",
            "[#0] WARNING:Minization -- RooMinimizerFcn: Minimized function has error status.\n",
            "Returning maximum FCN so far (404250) to force MIGRAD to back out of this region. Error log follows\n",
            "Parameter values: Gauss_Norm_N=1297.51, Mean=5286.28, Width=39.5602, exp_Norm=5789.15, exponent=0.266738\n",
            "RooRealIntegral::Exponential Background_Int[M_m0][ Int Exponential Backgroundd[Ana](M_m0) ]\n",
            "     function value is NAN @ !sumList=(), !intList=(), !anaList=(M_m0 = 5174.11), !jacList=(), !facList=(), !func=Exponential Background=inf/1.2804e-44, !sumCat=()\n",
            "RooNLLVar::nll_Full Model_Data Set[ paramSet=(Gauss_Norm_N,Mean,Width,exp_Norm,exponent) ]\n",
            "     function value is NAN @ paramSet=(Gauss_Norm_N = 1297.51,Mean = 5286.28,Width = 39.5602,exp_Norm = 5789.15,exponent = 0.266738)\n",
            "RooAddPdf::Full Model[ Gauss_Norm_N * Gaussian Signal + exp_Norm * Exponential Background ]\n",
            "     p.d.f value is Not-a-Number (-nan), forcing value to zero @ !refCoefNorm=(), !pdfs=(Gaussian Signal = 0.23973/99.1626,Exponential Background = inf/-nan), !coefficients=(Gauss_Norm_N = 1297.51,exp_Norm = 5789.15)\n",
            "     getLogVal() top-level p.d.f evaluates to zero @ !refCoefNorm=(), !pdfs=(Gaussian Signal = 0.23973/99.1626,Exponential Background = inf/-nan), !coefficients=(Gauss_Norm_N = 1297.51,exp_Norm = 5789.15)\n",
            "     p.d.f value is Not-a-Number (-nan), forcing value to zero @ !refCoefNorm=(), !pdfs=(Gaussian Signal = 1.04508e-10/99.1626,Exponential Background = inf/-nan), !coefficients=(Gauss_Norm_N = 1297.51,exp_Norm = 5789.15)\n",
            "     getLogVal() top-level p.d.f evaluates to zero @ !refCoefNorm=(), !pdfs=(Gaussian Signal = 1.04508e-10/99.1626,Exponential Background = inf/-nan), !coefficients=(Gauss_Norm_N = 1297.51,exp_Norm = 5789.15)\n",
            "     p.d.f value is Not-a-Number (-nan), forcing value to zero @ !refCoefNorm=(), !pdfs=(Gaussian Signal = 0.000623409/99.1626,Exponential Background = inf/-nan), !coefficients=(Gauss_Norm_N = 1297.51,exp_Norm = 5789.15)\n",
            "     getLogVal() top-level p.d.f evaluates to zero @ !refCoefNorm=(), !pdfs=(Gaussian Signal = 0.000623409/99.1626,Exponential Background = inf/-nan), !coefficients=(Gauss_Norm_N = 1297.51,exp_Norm = 5789.15)\n",
            "     p.d.f value is Not-a-Number (-nan), forcing value to zero @ !refCoefNorm=(), !pdfs=(Gaussian Signal = 4.4575e-08/99.1626,Exponential Background = inf/-nan), !coefficients=(Gauss_Norm_N = 1297.51,exp_Norm = 5789.15)\n",
            "     getLogVal() top-level p.d.f evaluates to zero @ !refCoefNorm=(), !pdfs=(Gaussian Signal = 4.4575e-08/99.1626,Exponential Background = inf/-nan), !coefficients=(Gauss_Norm_N = 1297.51,exp_Norm = 5789.15)\n",
            "     p.d.f value is Not-a-Number (-nan), forcing value to zero @ !refCoefNorm=(), !pdfs=(Gaussian Signal = 2.43836e-09/99.1626,Exponential Background = inf/-nan), !coefficients=(Gauss_Norm_N = 1297.51,exp_Norm = 5789.15)\n",
            "     getLogVal() top-level p.d.f evaluates to zero @ !refCoefNorm=(), !pdfs=(Gaussian Signal = 2.43836e-09/99.1626,Exponential Background = inf/-nan), !coefficients=(Gauss_Norm_N = 1297.51,exp_Norm = 5789.15)\n",
            "     p.d.f value is Not-a-Number (-nan), forcing value to zero @ !refCoefNorm=(), !pdfs=(Gaussian Signal = 0.00869419/99.1626,Exponential Background = inf/-nan), !coefficients=(Gauss_Norm_N = 1297.51,exp_Norm = 5789.15)\n",
            "     getLogVal() top-level p.d.f evaluates to zero @ !refCoefNorm=(), !pdfs=(Gaussian Signal = 0.00869419/99.1626,Exponential Background = inf/-nan), !coefficients=(Gauss_Norm_N = 1297.51,exp_Norm = 5789.15)\n",
            "    ... (remaining 2038 messages suppressed)\n",
            "\n",
            " MIGRAD MINIMIZATION HAS CONVERGED.\n",
            " MIGRAD WILL VERIFY CONVERGENCE AND ERROR MATRIX.\n",
            " COVARIANCE MATRIX CALCULATED SUCCESSFULLY\n",
            " FCN=-66592.3 FROM MIGRAD    STATUS=CONVERGED     228 CALLS         229 TOTAL\n",
            "                     EDM=4.52029e-05    STRATEGY= 1      ERROR MATRIX ACCURATE \n",
            "  EXT PARAMETER                                   STEP         FIRST   \n",
            "  NO.   NAME      VALUE            ERROR          SIZE      DERIVATIVE \n",
            "   1  Gauss_Norm_N   3.12317e+03   9.22818e+01   7.69288e-05  -1.15452e+01\n",
            "   2  Mean         5.28033e+03   6.38867e-01   2.42367e-03   7.93918e-02\n",
            "   3  Width        1.99864e+01   6.55399e-01   4.99253e-03   8.71935e-02\n",
            "   4  exp_Norm     2.04338e+04   1.60671e+02   7.08653e-05   3.52433e+00\n",
            "   5  exponent    -1.54209e-03   4.53453e-05   4.01100e-06   1.20950e+02\n",
            "                               ERR DEF= 0.5\n",
            " EXTERNAL ERROR MATRIX.    NDIM=  25    NPAR=  5    ERR DEF=0.5\n",
            "  8.516e+03 -7.377e+00  2.962e+01 -5.385e+03 -4.264e-04 \n",
            " -7.377e+00  4.082e-01 -8.529e-02  7.362e+00 -1.116e-06 \n",
            "  2.962e+01 -8.529e-02  4.297e-01 -2.956e+01 -2.056e-06 \n",
            " -5.385e+03  7.362e+00 -2.956e+01  2.582e+04  4.261e-04 \n",
            " -4.264e-04 -1.116e-06 -2.056e-06  4.261e-04  2.056e-09 \n",
            " PARAMETER  CORRELATION COEFFICIENTS  \n",
            "       NO.  GLOBAL      1      2      3      4      5\n",
            "        1  0.54692   1.000 -0.125  0.490 -0.363 -0.102\n",
            "        2  0.21317  -0.125  1.000 -0.204  0.072 -0.039\n",
            "        3  0.52170   0.490 -0.204  1.000 -0.281 -0.069\n",
            "        4  0.38241  -0.363  0.072 -0.281  1.000  0.058\n",
            "        5  0.12022  -0.102 -0.039 -0.069  0.058  1.000\n",
            " **********\n",
            " **  133 **SET ERR         0.5\n",
            " **********\n",
            " **********\n",
            " **  134 **SET PRINT           1\n",
            " **********\n",
            " **********\n",
            " **  135 **HESSE        2500\n",
            " **********\n",
            " COVARIANCE MATRIX CALCULATED SUCCESSFULLY\n",
            " FCN=-66592.3 FROM HESSE     STATUS=OK             31 CALLS         260 TOTAL\n",
            "                     EDM=4.52686e-05    STRATEGY= 1      ERROR MATRIX ACCURATE \n",
            "  EXT PARAMETER                                INTERNAL      INTERNAL  \n",
            "  NO.   NAME      VALUE            ERROR       STEP SIZE       VALUE   \n",
            "   1  Gauss_Norm_N   3.12317e+03   9.24366e+01   1.53858e-05  -1.53590e+00\n",
            "   2  Mean         5.28033e+03   6.39504e-01   9.69467e-05  -4.04433e-01\n",
            "   3  Width        1.99864e+01   6.57057e-01   1.99701e-04  -6.80241e-04\n",
            "   4  exp_Norm     2.04338e+04   1.60790e+02   1.41731e-05  -1.46143e+00\n",
            "   5  exponent    -1.54209e-03   4.53484e-05   8.02201e-07  -7.71044e-04\n",
            "                               ERR DEF= 0.5\n",
            " EXTERNAL ERROR MATRIX.    NDIM=  25    NPAR=  5    ERR DEF=0.5\n",
            "  8.545e+03 -7.493e+00  2.989e+01 -5.420e+03 -4.297e-04 \n",
            " -7.493e+00  4.090e-01 -8.761e-02  7.490e+00 -1.107e-06 \n",
            "  2.989e+01 -8.761e-02  4.319e-01 -2.988e+01 -2.078e-06 \n",
            " -5.420e+03  7.490e+00 -2.988e+01  2.585e+04  4.296e-04 \n",
            " -4.297e-04 -1.107e-06 -2.078e-06  4.296e-04  2.056e-09 \n",
            " PARAMETER  CORRELATION COEFFICIENTS  \n",
            "       NO.  GLOBAL      1      2      3      4      5\n",
            "        1  0.54906   1.000 -0.127  0.492 -0.365 -0.102\n",
            "        2  0.21759  -0.127  1.000 -0.208  0.073 -0.038\n",
            "        3  0.52519   0.492 -0.208  1.000 -0.283 -0.070\n",
            "        4  0.38406  -0.365  0.073 -0.283  1.000  0.059\n",
            "        5  0.12077  -0.102 -0.038 -0.070  0.059  1.000\n",
            "[#1] INFO:Minization -- RooMinimizer::optimizeConst: deactivating const optimization\n"
          ],
          "name": "stdout"
        }
      ]
    },
    {
      "cell_type": "code",
      "metadata": {
        "colab": {
          "base_uri": "https://localhost:8080/",
          "height": 574
        },
        "id": "S8yQK7sxZdow",
        "outputId": "33115d68-9dd6-413e-c9e7-a10e41c8183a"
      },
      "source": [
        "c2=ROOT.TCanvas(\"c2\",\"c2\")\r\n",
        "frame2 = mass.frame()\r\n",
        "data_to_fit.plotOn(frame2)\r\n",
        "model.plotOn(frame2, ROOT.RooFit.Components(\"Gaussian Signal\"),ROOT.RooFit.LineColor(8),ROOT.RooFit.LineStyle(2))\r\n",
        "model.plotOn(frame2, ROOT.RooFit.Components(\"Exponential Background\"),ROOT.RooFit.LineColor(46),ROOT.RooFit.LineStyle(2)) \r\n",
        "model.plotOn(frame2)\r\n",
        "\r\n",
        "frame2.chiSquare()\r\n",
        "frame2.Draw()\r\n",
        "\r\n",
        "c2.Draw()"
      ],
      "execution_count": 97,
      "outputs": [
        {
          "output_type": "stream",
          "text": [
            "[#1] INFO:Plotting -- RooAbsPdf::plotOn(Full Model) directly selected PDF components: (Gaussian Signal)\n",
            "[#1] INFO:Plotting -- RooAbsPdf::plotOn(Full Model) indirectly selected PDF components: ()\n",
            "[#1] INFO:Plotting -- RooAbsPdf::plotOn(Full Model) directly selected PDF components: (Exponential Background)\n",
            "[#1] INFO:Plotting -- RooAbsPdf::plotOn(Full Model) indirectly selected PDF components: ()\n"
          ],
          "name": "stdout"
        },
        {
          "output_type": "stream",
          "text": [
            "Warning in <TCanvas::Constructor>: Deleting canvas with same name: c2\n"
          ],
          "name": "stderr"
        },
        {
          "output_type": "display_data",
          "data": {
            "image/png": "[encoded data removed]",
            "text/plain": [
              "<IPython.core.display.Image object>"
            ]
          },
          "metadata": {
            "tags": []
          }
        }
      ]
    },
    {
      "cell_type": "code",
      "metadata": {
        "colab": {
          "base_uri": "https://localhost:8080/"
        },
        "id": "5JPJug8FZfAK",
        "outputId": "968673c0-2476-493a-c73c-a56392652fb6"
      },
      "source": [
        "print(Gauss_Norm_N.getValV())\r\n",
        "print(Gauss_Norm_N.getError())\r\n",
        "print(frame2.chiSquare())"
      ],
      "execution_count": 99,
      "outputs": [
        {
          "output_type": "stream",
          "text": [
            "3123.16980044\n",
            "92.4366131447\n",
            "2.84349563575\n"
          ],
          "name": "stdout"
        }
      ]
    },
    {
      "cell_type": "markdown",
      "metadata": {
        "id": "kMpDGx88ck9w"
      },
      "source": [
        "Calculation\r\n",
        "\r\n",
        "$A=\\frac{(N^{B-}-N^{B+})}{(N^{B-}+N^{B+})}$\r\n",
        "$\\sigma_A=\\sqrt\\frac{1-A^2}{N^{B-}+N^{B+}}$"
      ]
    },
    {
      "cell_type": "code",
      "metadata": {
        "colab": {
          "base_uri": "https://localhost:8080/"
        },
        "id": "rIhelqUzcnA1",
        "outputId": "ad814fa3-9bda-4397-8be3-f216a209f4cc"
      },
      "source": [
        "import math\r\n",
        "\r\n",
        "NBP = Gauss_Norm_P.getValV()\r\n",
        "NBN = Gauss_Norm_N.getValV()\r\n",
        "\r\n",
        "A = (NBN-NBP)/(NBN+NBP)\r\n",
        "print(A)\r\n",
        "\r\n",
        "SigA = math.sqrt(((1-A**2)/(NBN+NBP)))\r\n",
        "print(SigA) "
      ],
      "execution_count": 109,
      "outputs": [
        {
          "output_type": "stream",
          "text": [
            "-0.0874204714353\n",
            "0.012040837032\n"
          ],
          "name": "stdout"
        }
      ]
    },
    {
      "cell_type": "markdown",
      "metadata": {
        "id": "r5B--_33okz1"
      },
      "source": [
        "#Congratulations!\r\n",
        "\r\n",
        "You just made your first LHCb physics analysis. Does this seem like a reasonable result? Did we explain why we have an excess of mass in the Universe?"
      ]
    },
    {
      "cell_type": "markdown",
      "metadata": {
        "id": "csIE7x5IgoC-"
      },
      "source": [
        "***Negative A = theres either Negative or positive b that is more than the other, since its not symetric. Negative A means that there are more positive b. So, when they cancel out, there will be positive b left when the negative and positive matters cancel out.***"
      ]
    },
    {
      "cell_type": "markdown",
      "metadata": {
        "id": "dzybWZylomGu"
      },
      "source": [
        "## **Bonus content only below here:**"
      ]
    },
    {
      "cell_type": "markdown",
      "metadata": {
        "id": "odpbRqdoou5M"
      },
      "source": [
        "To make a further anaysis, we can look into the intermediate processes.\r\n",
        "\r\n",
        "We have so far considered only that the B meson ultimately decays into three kaons. It may be that on the way, the B meson first decays into a Kaon and another particle, and then from that particle to two Kaons.\r\n",
        "\r\n",
        "We would expect this to be one of three possible modes (for B<sup>+</sup>):\r\n",
        "\r\n",
        "$R^{++} \\rightarrow K_1^+ +K_2^+$\r\n",
        "\r\n",
        "(we don't expect this to happen because of the like charges in the Kaons)\r\n",
        "\r\n",
        "$R^0 \\rightarrow K_1^+ +K_3^-$\r\n",
        "\r\n",
        "$R^0 \\rightarrow K_2^+ +K_3^-$\r\n",
        "\r\n",
        "(Expect symmetric arrangements for B<sup>-</sup>)\r\n",
        "\r\n",
        "To analyse the intermediate states we can measure the invarient masses of the intermediate states and then plot them on what is called a Dalitz plot (this is a 2D plot with two different two body decays (from the three body decay) on each axis)\r\n",
        "\r\n",
        "![Dalitz Plot](https://slideplayer.com/slide/15960097/88/images/15/Dalitz+plot%3A+%CE%9B+c+%2B+%E2%86%92%F0%9D%91%9D+%F0%9D%90%BE+%E2%88%92+%F0%9D%9C%8B+%2B.jpg)\r\n"
      ]
    },
    {
      "cell_type": "code",
      "metadata": {
        "id": "SqJxvZSKo1cW"
      },
      "source": [
        "#Define a function to find the invarient mass of two given Kaons\r\n",
        "def invariantMass(p1, p2) :\r\n",
        "  # build invariant mass string\r\n",
        "  m1  = p1+\"_M\" ; ptot1 = p1+\"_P\" ; px1 = p1+\"_PX\" ; py1 = p1+\"_PY\" ; pz1 = p1+\"_PZ\"\r\n",
        "  m2  = p2+\"_M\" ; ptot2 = p2+\"_P\" ; px2 = p2+\"_PX\" ; py2 = p2+\"_PY\" ; pz2 = p2+\"_PZ\"\r\n",
        "  E1 = \"sqrt({0}**2 + {1}**2)\".format(m1,ptot1)\r\n",
        "  E2 = \"sqrt({0}**2 + {1}**2)\".format(m2,ptot2)\r\n",
        "  pvecdot = \"({0}*{1} + {2}*{3} + {4}*{5})\".format(px1,px2, py1,py2, pz1,pz2)\r\n",
        "  M2 = \"({0}**2 + {1}**2 + 2*{2}*{3} - 2*{4})\".format(m1,m2,E1,E2,pvecdot)\r\n",
        "  return M2"
      ],
      "execution_count": 111,
      "outputs": []
    },
    {
      "cell_type": "code",
      "metadata": {
        "id": "YPVqECfPo3Wc"
      },
      "source": [
        "#Then, ensuring you're still taking the data after the selection, make a Dalitz plot. This is a 2-D scatter plot (use e.g. TH2F to make the plot where we used TH1F before)\r\n",
        "#Choose an appropriate binning in your scatter \r\n",
        "import ROOT\r\n",
        "cuts = \"(1==1)\""
      ],
      "execution_count": null,
      "outputs": []
    },
    {
      "cell_type": "markdown",
      "metadata": {
        "id": "qPoPLt4Uo6QB"
      },
      "source": [
        "We can further improve our plot, since two sets of particles on each axis are exactly the same (one positive Kaon, one negative Kaon). So we can plot the maximum of the two values on one axis and the minimum on the other. We can use a quick numpy check and then plot those values."
      ]
    },
    {
      "cell_type": "code",
      "metadata": {
        "id": "KJ_fe2R3o8Aq"
      },
      "source": [
        "#Make the revised Dalitz plot here for B+ mesons"
      ],
      "execution_count": null,
      "outputs": []
    },
    {
      "cell_type": "code",
      "metadata": {
        "id": "t46slV8Yo-Ed"
      },
      "source": [
        "#Make the revised Dalitz plot here for B- mesons"
      ],
      "execution_count": null,
      "outputs": []
    },
    {
      "cell_type": "code",
      "metadata": {
        "id": "RfTDh69qo9_q"
      },
      "source": [
        "#Where we have a higher density of points (or a bigger value in the bin) this is indication of an intermediate resonance\r\n",
        "#Check out the possible resonances you have found in the PDG (http://pdg.lbl.gov/2020/tables/contents_tables.html)"
      ],
      "execution_count": null,
      "outputs": []
    }
  ]
}